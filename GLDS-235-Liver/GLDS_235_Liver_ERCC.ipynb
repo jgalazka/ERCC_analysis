{
  "nbformat": 4,
  "nbformat_minor": 0,
  "metadata": {
    "colab": {
      "name": "GLDS-235 Liver ERCC.ipynb",
      "provenance": [],
      "authorship_tag": "ABX9TyOwDUSQcOxHCVYzChFP8V6r",
      "include_colab_link": true
    },
    "kernelspec": {
      "name": "python3",
      "display_name": "Python 3"
    }
  },
  "cells": [
    {
      "cell_type": "markdown",
      "metadata": {
        "id": "view-in-github",
        "colab_type": "text"
      },
      "source": [
        "<a href=\"https://colab.research.google.com/github/jgalazka/ERCC_analysis/blob/main/GLDS-235-Liver/GLDS_235_Liver_ERCC.ipynb\" target=\"_parent\"><img src=\"https://colab.research.google.com/assets/colab-badge.svg\" alt=\"Open In Colab\"/></a>"
      ]
    },
    {
      "cell_type": "markdown",
      "metadata": {
        "id": "_FgeU1URxK4u"
      },
      "source": [
        "# GeneLab ERCC spike-in analysis notebook\n",
        "\n",
        "This notebook contains an analysis of RNA-seq counts data generated from ERCC spike-ins.\n",
        "\n",
        "Here GLDS-235 Liver is analyzed\n"
      ]
    },
    {
      "cell_type": "markdown",
      "metadata": {
        "id": "XjAkNk4Rx7zs"
      },
      "source": [
        "## Section 1: Setting up the notebook"
      ]
    },
    {
      "cell_type": "code",
      "metadata": {
        "colab": {
          "base_uri": "https://localhost:8080/"
        },
        "id": "QXz3miPTvOJ7",
        "outputId": "8abd17a8-8dc8-42a5-b739-7378a79bdaf6"
      },
      "source": [
        "# Set-up notebook to allow inline running of R code\n",
        "# Having done this, any code block starting with %RR will be run as R\n",
        "%load_ext rpy2.ipython"
      ],
      "execution_count": 1,
      "outputs": [
        {
          "output_type": "stream",
          "text": [
            "/usr/local/lib/python3.6/dist-packages/rpy2/robjects/pandas2ri.py:14: FutureWarning: pandas.core.index is deprecated and will be removed in a future version.  The public classes are available in the top-level namespace.\n",
            "  from pandas.core.index import Index as PandasIndex\n",
            "/usr/local/lib/python3.6/dist-packages/rpy2/robjects/pandas2ri.py:34: UserWarning: pandas >= 1.0 is not supported.\n",
            "  warnings.warn('pandas >= 1.0 is not supported.')\n"
          ],
          "name": "stderr"
        }
      ]
    },
    {
      "cell_type": "code",
      "metadata": {
        "id": "oBkWLKV7vYqm"
      },
      "source": [
        "# import python packages\n",
        "import pandas as pd"
      ],
      "execution_count": 2,
      "outputs": []
    },
    {
      "cell_type": "code",
      "metadata": {
        "id": "wq2vo2Slvamn"
      },
      "source": [
        "# Install R libraries necessary\n",
        "%%R\n",
        "if (!requireNamespace(\"BiocManager\", quietly = TRUE))\n",
        "    install.packages(\"BiocManager\")\n",
        "BiocManager::install(\"erccdashboard\")"
      ],
      "execution_count": null,
      "outputs": []
    },
    {
      "cell_type": "code",
      "metadata": {
        "id": "6xEFo7lvvr1y"
      },
      "source": [
        "# Load R libraries\n",
        "%%R\n",
        "library(erccdashboard)"
      ],
      "execution_count": null,
      "outputs": []
    },
    {
      "cell_type": "markdown",
      "metadata": {
        "id": "e8CPmRST1hMl"
      },
      "source": [
        "## Single Sample ERCC Analysis\n",
        "Because samples may be combined by users outside of their original study, it is useful to have ERCC metrics that can be calculated from single samples. These could include: limit of detection, dynamic range, R^2 from measured vs expected plot, etc."
      ]
    },
    {
      "cell_type": "code",
      "metadata": {
        "id": "d9ekm6pj2QJn"
      },
      "source": [
        ""
      ],
      "execution_count": null,
      "outputs": []
    },
    {
      "cell_type": "markdown",
      "metadata": {
        "id": "Qn1fUyNy2TAW"
      },
      "source": [
        "## Full Study ERCC Analysis\n",
        "In some studies, Mix 1 and Mix 2 are added to samples in a way that allows the power of a study to be evaluated. For example, all flight samples may contain Mix 1 while all ground contain Mix 2. In this case, using the ERCC Dashboard package allows an assessment of DE analysis between flight and ground by using the know ratios of transcripts in the ERCC Mix 1 and Mix 2 standards."
      ]
    },
    {
      "cell_type": "code",
      "metadata": {
        "id": "TR3CoDsI28pI"
      },
      "source": [
        ""
      ],
      "execution_count": null,
      "outputs": []
    }
  ]
}