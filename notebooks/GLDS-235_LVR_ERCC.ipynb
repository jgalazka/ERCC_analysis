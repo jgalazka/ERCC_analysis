{
 "cells": [
  {
   "cell_type": "markdown",
   "metadata": {},
   "source": [
    "[![Open In Colab](https://colab.research.google.com/github/jgalazka/ERCC_analysis/blob/main/notebooks/GLDS-235_LVR_ERCC.ipynb)"
   ]
  },
  {
   "cell_type": "markdown",
   "metadata": {
    "id": "_FgeU1URxK4u"
   },
   "source": [
    "# GeneLab ERCC spike-in analysis notebook\n",
    "\n",
    "This notebook contains an analysis of RNA-seq counts data generated from ERCC spike-ins.\n",
    "\n",
    "Here GLDS-235 is analyzed."
   ]
  },
  {
   "cell_type": "markdown",
   "metadata": {
    "id": "XjAkNk4Rx7zs"
   },
   "source": [
    "## Setting up the notebook"
   ]
  },
  {
   "cell_type": "code",
   "execution_count": null,
   "metadata": {
    "id": "oBkWLKV7vYqm"
   },
   "outputs": [],
   "source": [
    "# import python packages\n",
    "import pandas as pd\n",
    "pd.set_option('mode.chained_assignment', None) # suppress chained indexing warnings\n",
    "import numpy as np\n",
    "from urllib.request import urlopen, quote, urlretrieve\n",
    "from json import loads\n",
    "from re import search\n",
    "import zipfile\n",
    "import seaborn as sns\n",
    "from scipy.stats import linregress\n",
    "import matplotlib.pyplot as plt"
   ]
  },
  {
   "cell_type": "markdown",
   "metadata": {},
   "source": [
    "## GeneLab metadata from URL\n",
    "\n",
    "Before you begin, visit https://genelab-data.ndc.nasa.gov and browse a GLDS accession # of interest for your analysis.<br>\n",
    "ISA.zip metadata from URL contains sample ID and transcription profile for RNA-Seq text files used in this analysis. <br>\n",
    "Function below allows the user to retrieve ISA.zip file without relying on exact version of the data as the versions change.  "
   ]
  },
  {
   "cell_type": "code",
   "execution_count": null,
   "metadata": {
    "id": "HxCFgym_obZ_"
   },
   "outputs": [],
   "source": [
    "# Function to pull metadata zip from GeneLab\n",
    "# Credit to Kirill Grigorev\n",
    "GENELAB_ROOT = \"https://genelab-data.ndc.nasa.gov\"\n",
    "GLDS_URL_PREFIX = GENELAB_ROOT + \"/genelab/data/study/data/\"\n",
    "FILELISTINGS_URL_PREFIX = GENELAB_ROOT + \"/genelab/data/study/filelistings/\"\n",
    "ISA_ZIP_REGEX = r'.*_metadata_.*[_-]ISA\\.zip$'\n",
    "\n",
    "def read_json(url):\n",
    "    with urlopen(url) as response:\n",
    "        return loads(response.read().decode())\n",
    "\n",
    "def get_isa(accession):\n",
    "    glds_json = read_json(GLDS_URL_PREFIX + accession)\n",
    "    try:\n",
    "        _id = glds_json[0][\"_id\"]\n",
    "    except (AssertionError, TypeError, KeyError, IndexError):\n",
    "        raise ValueError(\"Malformed JSON?\")\n",
    "    isa_entries = [\n",
    "        entry for entry in read_json(FILELISTINGS_URL_PREFIX + _id)\n",
    "        if search(ISA_ZIP_REGEX, entry[\"file_name\"])\n",
    "    ]\n",
    "    if len(isa_entries) == 0:\n",
    "        raise ValueError(\"Unexpected: no ISAs found\")\n",
    "    elif len(isa_entries) > 1:\n",
    "        raise ValueError(\"Unexpected: multiple files match the ISA regex\")\n",
    "    else:\n",
    "        entry = isa_entries[0]\n",
    "        version = entry[\"version\"]\n",
    "        url = GENELAB_ROOT + entry[\"remote_url\"] + \"?version={}\".format(version)\n",
    "        alt_url = (\n",
    "            GENELAB_ROOT + \"/genelab/static/media/dataset/\" +\n",
    "            quote(entry[\"file_name\"]) + \"?version={}\".format(version)\n",
    "        )\n",
    "        return entry[\"file_name\"], version, url, alt_url"
   ]
  },
  {
   "cell_type": "markdown",
   "metadata": {},
   "source": [
    "The same GLDS accession # contains an unnormalized counts text file used in this analysis. <br>\n",
    "Function below allows the user to retrieve Unnormalized_Counts.csv without relying on exact version of the data as the versions change.  "
   ]
  },
  {
   "cell_type": "code",
   "execution_count": null,
   "metadata": {
    "id": "aI7AYKbdz3lF"
   },
   "outputs": [],
   "source": [
    "# Function to pull unnormalized counts from GeneLab\n",
    "# Credit to Kirill Grigorev\n",
    "\n",
    "RAW_COUNTS_REGEX = r'.*_rna_seq_Unnormalized_Counts.csv'\n",
    "\n",
    "def get_rawcounts(accession):\n",
    "    glds_json = read_json(GLDS_URL_PREFIX + accession)\n",
    "    try:\n",
    "        _id = glds_json[0][\"_id\"]\n",
    "    except (AssertionError, TypeError, KeyError, IndexError):\n",
    "        raise ValueError(\"Malformed JSON?\")\n",
    "    raw_counts_entries = [\n",
    "        entry for entry in read_json(FILELISTINGS_URL_PREFIX + _id)\n",
    "        if search(RAW_COUNTS_REGEX, entry[\"file_name\"])\n",
    "    ]\n",
    "    if len(raw_counts_entries) == 0:\n",
    "        raise ValueError(\"Unexpected: no Raw Counts found\")\n",
    "    elif len(raw_counts_entries) > 1:\n",
    "        raise ValueError(\"Unexpected: multiple files match the Raw Counts regex\")\n",
    "    else:\n",
    "        entry = raw_counts_entries[0]\n",
    "        version = entry[\"version\"]\n",
    "        url = GENELAB_ROOT + entry[\"remote_url\"] + \"?version={}\".format(version)\n",
    "        alt_url = (\n",
    "            GENELAB_ROOT + \"/genelab/static/media/dataset/\" +\n",
    "            quote(entry[\"file_name\"]) + \"?version={}\".format(version)\n",
    "        )\n",
    "        return entry[\"file_name\"], version, url, alt_url"
   ]
  },
  {
   "cell_type": "markdown",
   "metadata": {
    "id": "iqa_fJERjJOl"
   },
   "source": [
    "## Get and parse data and metadata\n",
    "Get and unzip ISA.zip, counts, and ERCC data."
   ]
  },
  {
   "cell_type": "code",
   "execution_count": null,
   "metadata": {
    "colab": {
     "base_uri": "https://localhost:8080/"
    },
    "id": "rkuzK-uBjbPl",
    "outputId": "f4d08336-c23c-4c0f-9fc1-05a886f655c6"
   },
   "outputs": [],
   "source": [
    "accession = 'GLDS-235' # Change this as necessary\n",
    "isaurl = get_isa(accession)[3]\n",
    "filehandle, _ = urlretrieve(isaurl)\n",
    "zip_file_object = zipfile.ZipFile(filehandle, 'r')\n",
    "zip_file_object.namelist() # Print contents of zip file. Pick relevant one from list"
   ]
  },
  {
   "cell_type": "markdown",
   "metadata": {},
   "source": [
    "There are datasets that have multiple assays (including microarray), so holding ISA file based on location in above cell block will not always work. <br>Txt files outputted above are indexed as 0, 1, 2, etc. Fill in below at the end bracket of the number .txt file that corresponds to a for assay_file and s for sample_file."
   ]
  },
  {
   "cell_type": "code",
   "execution_count": null,
   "metadata": {
    "id": "-N4cZTGqnykW"
   },
   "outputs": [],
   "source": [
    "sample_file = zip_file_object.namelist()[0]\n",
    "file = zip_file_object.open(sample_file)\n",
    "sample_table = pd.read_csv(zip_file_object.open(sample_file), sep='\\t')\n",
    "\n",
    "assay_file = zip_file_object.namelist()[2]\n",
    "file = zip_file_object.open(assay_file)\n",
    "assay_table = pd.read_csv(zip_file_object.open(assay_file), sep='\\t')"
   ]
  },
  {
   "cell_type": "code",
   "execution_count": null,
   "metadata": {
    "id": "4deR3YJroTeN"
   },
   "outputs": [],
   "source": [
    "sample_table.head(n=3)"
   ]
  },
  {
   "cell_type": "code",
   "execution_count": null,
   "metadata": {
    "colab": {
     "base_uri": "https://localhost:8080/",
     "height": 446
    },
    "id": "EdVx2NR8q53l",
    "outputId": "dc6ff27c-19fc-4e9e-966f-8f0bdeedf0ff"
   },
   "outputs": [],
   "source": [
    "assay_table.head(n=3)"
   ]
  },
  {
   "cell_type": "code",
   "execution_count": null,
   "metadata": {
    "colab": {
     "base_uri": "https://localhost:8080/",
     "height": 227
    },
    "id": "E1m_tgZe7HZB",
    "outputId": "0375f431-012f-43a1-9fc1-5a45bf82174a"
   },
   "outputs": [],
   "source": [
    "# Get raw counts table\n",
    "raw_counts_file = get_rawcounts(accession)[3]\n",
    "raw_counts_table = pd.read_csv(raw_counts_file, index_col=0)\n",
    "raw_counts_table.index.rename('Gene_ID', inplace=True)\n",
    "raw_counts_table.head(n=3)"
   ]
  },
  {
   "cell_type": "code",
   "execution_count": null,
   "metadata": {},
   "outputs": [],
   "source": [
    "raw_counts_transcripts = raw_counts_table[raw_counts_table.index.str.contains('^ENSMUSG')]\n",
    "raw_counts_transcripts = raw_counts_transcripts.sort_values(by=list(raw_counts_transcripts), ascending=False)\n",
    "raw_counts_transcripts"
   ]
  },
  {
   "cell_type": "code",
   "execution_count": null,
   "metadata": {},
   "outputs": [],
   "source": [
    "#raw_counts_transcripts.to_csv('raw_counts_transcripts_stats.csv')"
   ]
  },
  {
   "cell_type": "code",
   "execution_count": null,
   "metadata": {
    "colab": {
     "base_uri": "https://localhost:8080/",
     "height": 278
    },
    "id": "Nn7MUfjlAMhh",
    "outputId": "4f36308f-05c3-409f-a7b3-6565353eec76"
   },
   "outputs": [],
   "source": [
    "# Get ERCC counts\n",
    "ercc_counts = raw_counts_table[raw_counts_table.index.str.contains('^ERCC-')] \n",
    "ercc_counts.reset_index(inplace=True)\n",
    "ercc_counts = ercc_counts.rename(columns={'Gene_ID':'ERCC ID'})\n",
    "ercc_counts = ercc_counts.sort_values(by=list(ercc_counts), ascending=False)\n",
    "ercc_counts.head()"
   ]
  },
  {
   "cell_type": "code",
   "execution_count": null,
   "metadata": {
    "colab": {
     "base_uri": "https://localhost:8080/",
     "height": 142
    },
    "id": "G0mAVgi-7ibr",
    "outputId": "89fd4280-ec1b-46ae-af8e-2a3f43197b67"
   },
   "outputs": [],
   "source": [
    "# Get ERCC files\n",
    "ercc_url = 'https://assets.thermofisher.com/TFS-Assets/LSG/manuals/cms_095046.txt'\n",
    "filehandle, _ = urlretrieve(ercc_url)\n",
    "ercc_table = pd.read_csv(filehandle, '\\t')\n",
    "ercc_table.head(n=3)"
   ]
  },
  {
   "cell_type": "markdown",
   "metadata": {},
   "source": [
    "## Number of ERCC Detected \n",
    "Number of ERCC detected in each of the 4 (A, B, C and D) groups for the study. "
   ]
  },
  {
   "cell_type": "markdown",
   "metadata": {},
   "source": [
    "Filter counts > 0"
   ]
  },
  {
   "cell_type": "code",
   "execution_count": null,
   "metadata": {},
   "outputs": [],
   "source": [
    "meltERCC = ercc_counts.melt(id_vars=['ERCC ID'])\n",
    "meltERCC['log2 Count'] = meltERCC['value']+1\n",
    "meltERCC['log2 Count'] = np.log2(meltERCC['log2 Count'])\n",
    "meltERCC = meltERCC.rename(columns={'variable':'Sample Name', 'value':'Count'})\n",
    "meltERCC.head(n=3)"
   ]
  },
  {
   "cell_type": "code",
   "execution_count": null,
   "metadata": {},
   "outputs": [],
   "source": [
    "# Build Mix dictionary to link sample name to mix added using assay table\n",
    "mix_dict = assay_table.filter(['Sample Name','Parameter Value[Spike-in Mix Number]', \n",
    "                       'Parameter Value[Read Depth,http://ncicb.nci.nih.gov/xml/owl/EVS/Thesaurus.owl#C155320,NCIT]'])\n",
    "mix_dict = mix_dict.rename(columns={'Parameter Value[Spike-in Mix Number]':'Mix',\n",
    "                                    'Parameter Value[Read Depth,http://ncicb.nci.nih.gov/xml/owl/EVS/Thesaurus.owl#C155320,NCIT]':\n",
    "                                    'Total Reads'})\n",
    "mix_dict.head(n=3)"
   ]
  },
  {
   "cell_type": "code",
   "execution_count": null,
   "metadata": {},
   "outputs": [],
   "source": [
    "# Make combined ercc counts and assay table\n",
    "merged_ercc = meltERCC.merge(mix_dict, on='Sample Name')\n",
    "merged_ercc.head(n=3)"
   ]
  },
  {
   "cell_type": "code",
   "execution_count": null,
   "metadata": {},
   "outputs": [],
   "source": [
    "# Read ERCC info including concentrations from merged_ercc table\n",
    "groupA = ercc_table.loc[ercc_table['subgroup'] == 'A']['ERCC ID']\n",
    "groupB = ercc_table.loc[ercc_table['subgroup'] == 'B']['ERCC ID']\n",
    "groupC = ercc_table.loc[ercc_table['subgroup'] == 'C']['ERCC ID']\n",
    "groupD = ercc_table.loc[ercc_table['subgroup'] == 'D']['ERCC ID']\n",
    "\n",
    "# Make a dictionary for ERCC group\n",
    "group_dict = dict(zip(ercc_table['ERCC ID'], ercc_table['subgroup']))"
   ]
  },
  {
   "cell_type": "code",
   "execution_count": null,
   "metadata": {},
   "outputs": [],
   "source": [
    "# Calculate Count per million and log2 Count per million\n",
    "merged_ercc['Count per million'] = merged_ercc['Count'] / (merged_ercc['Total Reads'] / 1000000.0)\n",
    "merged_ercc['log2 Count per million'] = np.log2(merged_ercc['Count per million']+1)\n",
    "\n",
    "# Add ERCC group\n",
    "merged_ercc['ERCC group'] = merged_ercc['ERCC ID'].map(group_dict)\n",
    "merged_ercc"
   ]
  },
  {
   "cell_type": "markdown",
   "metadata": {},
   "source": [
    "Filter and calculate mean log2 Count per million of Mix1 and Mix2 in each of the 4 groups"
   ]
  },
  {
   "cell_type": "code",
   "execution_count": null,
   "metadata": {},
   "outputs": [],
   "source": [
    "# Filter Mix1 log2 CPM and Mix2 log2 CPM in group A \n",
    "# Mean values of Mix1 log2 CPM and Mix2 log2 CPM\n",
    "Adf = merged_ercc.loc[merged_ercc['ERCC group'] == 'A']\n",
    "\n",
    "Amix1df = Adf.loc[Adf['Mix']=='Mix 1']\n",
    "Amix1df['Mix1 log2 CPM'] = Amix1df[Amix1df['log2 Count per million'] > 0]['log2 Count per million'].dropna()\n",
    "Amix1df = Amix1df.groupby('ERCC ID')['Mix1 log2 CPM'].agg(np.mean).rename('ave Mix1 log2 CPM')\n",
    "Amix1df = Amix1df.to_frame()\n",
    "Amix2df = Adf.loc[Adf['Mix']=='Mix 2']\n",
    "Amix2df['Mix2 log2 CPM'] = Amix2df[Amix2df['log2 Count per million'] > 0]['log2 Count per million'].dropna()\n",
    "Amix2df = Amix2df.groupby('ERCC ID')['Mix2 log2 CPM'].agg(np.mean).rename('ave Mix2 log2 CPM')\n",
    "Amix2df = Amix2df.to_frame()\n",
    "\n",
    "adf = Amix1df.merge(Amix2df, on='ERCC ID', suffixes=('', '_2'))\n",
    "adf = adf.reset_index()\n",
    "adf['ave Mix1 log2 CPM/ ave Mix2 log2 CPM'] = (adf['ave Mix1 log2 CPM'] / adf['ave Mix2 log2 CPM'])"
   ]
  },
  {
   "cell_type": "code",
   "execution_count": null,
   "metadata": {},
   "outputs": [],
   "source": [
    "Bdf = merged_ercc.loc[merged_ercc['ERCC group'] == 'B']\n",
    "Bmix1df = Bdf.loc[Bdf['Mix']=='Mix 1']\n",
    "Bmix1df['Mix1 log2 CPM'] = Bmix1df[Bmix1df['log2 Count per million'] > 0]['log2 Count per million'].dropna()\n",
    "Bmix1df = Bmix1df.groupby('ERCC ID')['Mix1 log2 CPM'].agg(np.mean).rename('ave Mix1 log2 CPM')\n",
    "Bmix1df = Bmix1df.to_frame()\n",
    "Bmix2df = Bdf.loc[Bdf['Mix']=='Mix 2']\n",
    "Bmix2df['Mix2 log2 CPM'] = Bmix2df[Bmix2df['log2 Count per million'] > 0]['log2 Count per million'].dropna()\n",
    "Bmix2df = Bmix2df.groupby('ERCC ID')['Mix2 log2 CPM'].agg(np.mean).rename('ave Mix2 log2 CPM')\n",
    "Bmix2df = Bmix2df.to_frame()\n",
    "\n",
    "bdf = Bmix1df.merge(Bmix2df, on='ERCC ID')\n",
    "bdf = bdf.reset_index()\n",
    "bdf['ave Mix1 log2 CPM/ ave Mix2 log2 CPM'] = (bdf['ave Mix1 log2 CPM'] / bdf['ave Mix2 log2 CPM'])"
   ]
  },
  {
   "cell_type": "code",
   "execution_count": null,
   "metadata": {},
   "outputs": [],
   "source": [
    "Cdf = merged_ercc.loc[merged_ercc['ERCC group'] == 'C']\n",
    "Cmix1df = Cdf.loc[Cdf['Mix']=='Mix 1']\n",
    "Cmix1df['Mix1 log2 CPM'] = Cmix1df[Cmix1df['log2 Count per million'] > 0]['log2 Count per million'].dropna()\n",
    "Cmix1df = Cmix1df.groupby('ERCC ID')['Mix1 log2 CPM'].agg(np.mean).rename('ave Mix1 log2 CPM')\n",
    "Cmix1df = Cmix1df.to_frame()\n",
    "Cmix2df = Cdf.loc[Cdf['Mix']=='Mix 2']\n",
    "Cmix2df['Mix2 log2 CPM'] = Cmix2df[Cmix2df['log2 Count per million'] > 0]['log2 Count per million'].dropna()\n",
    "Cmix2df = Cmix2df.groupby('ERCC ID')['Mix2 log2 CPM'].agg(np.mean).rename('ave Mix2 log2 CPM')\n",
    "Cmix2df = Cmix2df.to_frame()\n",
    "\n",
    "cdf = Cmix1df.merge(Cmix2df, on='ERCC ID')\n",
    "cdf = cdf.reset_index()\n",
    "cdf['ave Mix1 log2 CPM/ ave Mix2 log2 CPM'] = (cdf['ave Mix1 log2 CPM'] / cdf['ave Mix2 log2 CPM'])"
   ]
  },
  {
   "cell_type": "code",
   "execution_count": null,
   "metadata": {},
   "outputs": [],
   "source": [
    "Ddf = merged_ercc.loc[merged_ercc['ERCC group'] == 'D']\n",
    "Dmix1df = Ddf.loc[Ddf['Mix']=='Mix 1']\n",
    "Dmix1df['Mix1 log2 CPM'] = Dmix1df[Dmix1df['log2 Count per million'] > 0]['log2 Count per million'].dropna()\n",
    "Dmix1df = Dmix1df.groupby('ERCC ID')['Mix1 log2 CPM'].agg(np.mean).rename('ave Mix1 log2 CPM')\n",
    "Dmix1df = Dmix1df.to_frame()\n",
    "Dmix2df = Ddf.loc[Ddf['Mix']=='Mix 2']\n",
    "Dmix2df['Mix2 log2 CPM'] = Dmix2df[Dmix2df['log2 Count per million'] > 0]['log2 Count per million'].dropna()\n",
    "Dmix2df = Dmix2df.groupby('ERCC ID')['Mix2 log2 CPM'].agg(np.mean).rename('ave Mix2 log2 CPM')\n",
    "Dmix2df = Dmix2df.to_frame()\n",
    "\n",
    "ddf = Dmix1df.merge(Dmix2df, on='ERCC ID')\n",
    "ddf = ddf.reset_index()\n",
    "ddf['ave Mix1 log2 CPM/ ave Mix2 log2 CPM'] = (ddf['ave Mix1 log2 CPM'] / ddf['ave Mix2 log2 CPM'])"
   ]
  },
  {
   "cell_type": "markdown",
   "metadata": {},
   "source": [
    "Barplots of number of ERCC detected in group A."
   ]
  },
  {
   "cell_type": "code",
   "execution_count": null,
   "metadata": {},
   "outputs": [],
   "source": [
    "a = sns.catplot(x=\"ERCC ID\", y=\"log2 Count per million\", order=groupA, hue=\"Mix\",data=merged_ercc[merged_ercc['ERCC ID'].isin(groupA)], kind=\"box\", col=\"ERCC group\", height=5, aspect=1)\n",
    "a.set_xticklabels(rotation=90)\n",
    "plt.text(23,1.75,\"Mix1/ Mix2 = 4\")\n",
    "#figApath = 'groupA.pdf'\n",
    "#a.savefig(figApath, bbox_inches='tight')\n",
    "\n",
    "a = sns.catplot(x=\"ERCC ID\", y=\"ave Mix1 log2 CPM/ ave Mix2 log2 CPM\", palette=\"rocket_r\", data=adf, kind=\"bar\", \n",
    "               height=5, aspect=1, linewidth=0.5)\n",
    "a.set_xticklabels(rotation=90)\n",
    "plt.title(\"ERCC Group A\")\n",
    "a.set(ylim=(0, 7))\n",
    "#figApath = 'groupA1.pdf'\n",
    "#a.savefig(figApath, bbox_inches='tight')\n",
    "print('Number of ERCC detected in group A (out of 23) =', adf['ave Mix1 log2 CPM/ ave Mix2 log2 CPM'].count())"
   ]
  },
  {
   "cell_type": "markdown",
   "metadata": {},
   "source": [
    "Barplots of number of ERCC detected in group B."
   ]
  },
  {
   "cell_type": "code",
   "execution_count": null,
   "metadata": {},
   "outputs": [],
   "source": [
    "b = sns.catplot(x=\"ERCC ID\", y=\"log2 Count per million\", order=groupB, hue=\"Mix\", data=merged_ercc[merged_ercc['ERCC ID'].isin(groupB)], kind=\"box\", col=\"ERCC group\", height=5, aspect=1)\n",
    "b.set_xticklabels(rotation=90)\n",
    "plt.text(23,1.25,\"Mix1/ Mix2 = 1\")\n",
    "\n",
    "b = sns.catplot(x=\"ERCC ID\", y=\"ave Mix1 log2 CPM/ ave Mix2 log2 CPM\", palette=\"rocket_r\", data=bdf, kind=\"bar\", \n",
    "               height=5, aspect=1, linewidth=0.5)\n",
    "b.set_xticklabels(rotation=90)\n",
    "plt.title(\"ERCC Group B\")\n",
    "b.set(ylim=(0, 5))\n",
    "print('Number of ERCC detected in group B (out of 23) =', bdf['ave Mix1 log2 CPM/ ave Mix2 log2 CPM'].count())"
   ]
  },
  {
   "cell_type": "markdown",
   "metadata": {},
   "source": [
    "Barplots of number of ERCC detected in group C."
   ]
  },
  {
   "cell_type": "code",
   "execution_count": null,
   "metadata": {},
   "outputs": [],
   "source": [
    "c = sns.catplot(x=\"ERCC ID\", y=\"log2 Count per million\", order=groupC, hue=\"Mix\", data=merged_ercc[merged_ercc['ERCC ID'].isin(groupC)], kind=\"box\", col=\"ERCC group\", height=5, aspect=1)\n",
    "c.set_xticklabels(rotation=90)\n",
    "plt.text(23,1.4,\"Mix1/ Mix2 = 0.67\")\n",
    "\n",
    "c = sns.catplot(x=\"ERCC ID\", y=\"ave Mix1 log2 CPM/ ave Mix2 log2 CPM\", palette=\"rocket_r\", data=cdf, kind=\"bar\", \n",
    "               height=5, aspect=1, linewidth=0.5)\n",
    "c.set_xticklabels(rotation=90)\n",
    "plt.title(\"ERCC Group C\")\n",
    "c.set(ylim=(0, 2.5))\n",
    "print('Number of ERCC detected in group C (out of 23) =', cdf['ave Mix1 log2 CPM/ ave Mix2 log2 CPM'].count())"
   ]
  },
  {
   "cell_type": "markdown",
   "metadata": {},
   "source": [
    "Barplots of number of ERCC detected in group D."
   ]
  },
  {
   "cell_type": "code",
   "execution_count": null,
   "metadata": {},
   "outputs": [],
   "source": [
    "d = sns.catplot(x=\"ERCC ID\", y=\"log2 Count per million\", order=groupD, hue=\"Mix\", data=merged_ercc[merged_ercc['ERCC ID'].isin(groupD)], col=\"ERCC group\", kind=\"box\", height=5, aspect=1)\n",
    "d.set_xticklabels(rotation=90)\n",
    "plt.text(23,1.5,\"Mix1/ Mix2 = 0.5\")\n",
    "\n",
    "d = sns.catplot(x=\"ERCC ID\", y=\"ave Mix1 log2 CPM/ ave Mix2 log2 CPM\", palette=\"rocket_r\", data=ddf, kind=\"bar\", \n",
    "               height=5, aspect=1, linewidth=0.5)\n",
    "d.set_xticklabels(rotation=90)\n",
    "plt.title(\"ERCC Group D\")\n",
    "d.set(ylim=(0, 2))\n",
    "print('Number of ERCC detected in group D (out of 23) =', ddf['ave Mix1 log2 CPM/ ave Mix2 log2 CPM'].count())"
   ]
  },
  {
   "cell_type": "markdown",
   "metadata": {
    "id": "e8CPmRST1hMl"
   },
   "source": [
    "## Single Sample ERCC Analysis\n",
    "Because samples may be combined by users outside of their original study, it is useful to have ERCC metrics that can be calculated from single samples. These could include: limit of detection, dynamic range, R^2 from measured vs expected plot, etc."
   ]
  },
  {
   "cell_type": "code",
   "execution_count": null,
   "metadata": {},
   "outputs": [],
   "source": [
    "ercc_table.head(n=3)"
   ]
  },
  {
   "cell_type": "code",
   "execution_count": null,
   "metadata": {
    "id": "d9ekm6pj2QJn"
   },
   "outputs": [],
   "source": [
    "# Make a dictionary for ERCC concentrations for each mix\n",
    "mix1_conc_dict = dict(zip(ercc_table['ERCC ID'], ercc_table['concentration in Mix 1 (attomoles/ul)']))\n",
    "mix2_conc_dict = dict(zip(ercc_table['ERCC ID'], ercc_table['concentration in Mix 2 (attomoles/ul)']))"
   ]
  },
  {
   "cell_type": "markdown",
   "metadata": {},
   "source": [
    "Sometimes Spike-in Mix Number is spelled Spike-in Mix number.  Check assay_table header if you run into an error in the cell below."
   ]
  },
  {
   "cell_type": "code",
   "execution_count": null,
   "metadata": {},
   "outputs": [],
   "source": [
    "pd.set_option('max_columns', 80)\n",
    "assay_table.head(n=3)"
   ]
  },
  {
   "cell_type": "code",
   "execution_count": null,
   "metadata": {
    "id": "e1HlX45-d065"
   },
   "outputs": [],
   "source": [
    "# get samples that use mix 1 and mix 2\n",
    "mix1_samples = assay_table[assay_table['Parameter Value[Spike-in Mix Number]'] == 'Mix 1']['Sample Name']\n",
    "mix2_samples = assay_table[assay_table['Parameter Value[Spike-in Mix Number]'] == 'Mix 2']['Sample Name']"
   ]
  },
  {
   "cell_type": "code",
   "execution_count": null,
   "metadata": {},
   "outputs": [],
   "source": [
    "# Get ERCC counts\n",
    "ercc_counts = raw_counts_table[raw_counts_table.index.str.contains('^ERCC-')] \n",
    "ercc_counts = ercc_counts.sort_values(by=list(ercc_counts), ascending=False)\n",
    "ercc_counts.head()"
   ]
  },
  {
   "cell_type": "code",
   "execution_count": null,
   "metadata": {
    "colab": {
     "base_uri": "https://localhost:8080/"
    },
    "id": "5Ai3Cfv5ebAC",
    "outputId": "89c748e6-e1dd-4e3d-b859-9565b4aafe3b"
   },
   "outputs": [],
   "source": [
    "ercc_counts_mix_1 = ercc_counts[mix1_samples]\n",
    "ercc_counts_mix_1['ERCC conc (attomoles/ul)'] = ercc_counts_mix_1.index.map(mix1_conc_dict)\n",
    "ercc_counts_mix_1.head(n=3)"
   ]
  },
  {
   "cell_type": "code",
   "execution_count": null,
   "metadata": {
    "colab": {
     "base_uri": "https://localhost:8080/"
    },
    "id": "unf4Obp4itx2",
    "outputId": "6ee9658a-ed5f-4ac9-dd0e-295ecc9e457e"
   },
   "outputs": [],
   "source": [
    "ercc_counts_mix_2 = ercc_counts[mix2_samples]\n",
    "ercc_counts_mix_2['ERCC conc (attomoles/ul)'] = ercc_counts_mix_2.index.map(mix2_conc_dict)\n",
    "ercc_counts_mix_2.head(n=3)"
   ]
  },
  {
   "cell_type": "markdown",
   "metadata": {},
   "source": [
    "Each sample, either Mix 1 or Mix 2, plotted using scatter plot with x = log2 ERCC conc (attomoles/ ul) and y = log2 Counts.     "
   ]
  },
  {
   "cell_type": "code",
   "execution_count": null,
   "metadata": {
    "colab": {
     "base_uri": "https://localhost:8080/",
     "height": 1000
    },
    "id": "8wnWVZJ_0P1w",
    "outputId": "05751390-1e4e-427f-8b21-baab53aa63da"
   },
   "outputs": [],
   "source": [
    "columns_mix_1 = ercc_counts_mix_1.columns\n",
    "columns_mix_2 = ercc_counts_mix_2.columns\n",
    "all_columns = columns_mix_1.to_list() + columns_mix_2.to_list()\n",
    "total_columns = len(columns_mix_1) + len(columns_mix_2) - 2\n",
    "side_size = np.int32(np.ceil(np.sqrt(total_columns)))# calculate grid side size. take sqrt of total plots and round up.\n",
    "fig, axs = plt.subplots(side_size+2, side_size-2, figsize=(20,20), sharex='all', sharey='all'); #change figsize x,y labels if needed.\n",
    "fig.tight_layout(pad=1, w_pad=2.5, h_pad=3.5)\n",
    "\n",
    "counter = 0\n",
    "for ax in axs.flat:\n",
    "    \n",
    "    if(counter < len(columns_mix_1)-1):\n",
    "      ax.scatter(x=np.log2(ercc_counts_mix_1['ERCC conc (attomoles/ul)']), y=np.log2(ercc_counts_mix_1[all_columns[counter]]+1), s=7);\n",
    "      ax.set_title(all_columns[counter][-45:], fontsize=7.4);\n",
    "      ax.set_xlabel('log2 ERCC conc (attomoles/ ul)', fontsize=7.5);\n",
    "      ax.set_ylabel('log2 Counts', fontsize=7.5);\n",
    "      ax.tick_params(direction='in', axis='both', labelsize=8, labelleft=True, labelbottom=True);\n",
    "      \n",
    "    elif(counter >= len(columns_mix_1) and counter < total_columns):\n",
    "      ax.scatter(x=np.log2(ercc_counts_mix_2['ERCC conc (attomoles/ul)']), y=np.log2(ercc_counts_mix_2[all_columns[counter]]+1), s=7);\n",
    "      ax.set_title(all_columns[counter][-45:], fontsize=7.4);\n",
    "      ax.set_xlabel('log2 ERCC conc (attomoles/ ul)', fontsize=7.5);\n",
    "      ax.set_ylabel('log2 Counts', fontsize=7.5);\n",
    "      ax.tick_params(direction='in', axis='both', labelsize=8, labelleft=True, labelbottom=True);\n",
    "       \n",
    "    else:\n",
    "      pass\n",
    "\n",
    "    counter = counter + 1"
   ]
  },
  {
   "cell_type": "markdown",
   "metadata": {},
   "source": [
    "Filter counts > 0"
   ]
  },
  {
   "cell_type": "code",
   "execution_count": null,
   "metadata": {
    "colab": {
     "base_uri": "https://localhost:8080/",
     "height": 231
    },
    "id": "BgKy_GT5Ex__",
    "outputId": "1d424b5e-8d10-4f74-ded7-b0f1ae25df6e"
   },
   "outputs": [],
   "source": [
    "nonzero_counts_list_1 = []\n",
    "for i in range(0, len(ercc_counts_mix_1.columns)-1):\n",
    "  counts = ercc_counts_mix_1[columns_mix_1[i]]\n",
    "  counts.index.rename('Gene_ID', inplace=True)\n",
    "  countsdf = pd.DataFrame(counts)\n",
    "  nonzero_counts = countsdf[ercc_counts_mix_1[columns_mix_1[i]] > 0.0]\n",
    "  nonzero_counts['Conc'] = nonzero_counts.index.map(mix1_conc_dict)\n",
    "  nonzero_counts.columns = ['Counts','Conc']\n",
    "  nonzero_counts_sorted = nonzero_counts.sort_values('Conc')\n",
    "  nonzero_counts_list_1.append(nonzero_counts_sorted)\n",
    "\n",
    "nonzero_counts_list_2 = []\n",
    "for i in range(0, len(ercc_counts_mix_2.columns)-1):\n",
    "  counts = ercc_counts_mix_2[columns_mix_2[i]]\n",
    "  counts.index.rename('Gene_ID', inplace=True)\n",
    "  countsdf = pd.DataFrame(counts)\n",
    "  nonzero_counts = countsdf[ercc_counts_mix_2[columns_mix_2[i]] > 0.0]\n",
    "  nonzero_counts['Conc'] = nonzero_counts.index.map(mix2_conc_dict)\n",
    "  nonzero_counts.columns = ['Counts','Conc']\n",
    "  nonzero_counts_sorted = nonzero_counts.sort_values('Conc')\n",
    "  nonzero_counts_list_2.append(nonzero_counts_sorted)\n",
    "    "
   ]
  },
  {
   "cell_type": "markdown",
   "metadata": {},
   "source": [
    "Each sample plotted using linear regression of scatter plot with x = log2 Conc and y = log2 Counts.  Return min, max, R^2 and dynamic range (max / min) values.  "
   ]
  },
  {
   "cell_type": "code",
   "execution_count": null,
   "metadata": {
    "colab": {
     "base_uri": "https://localhost:8080/",
     "height": 992
    },
    "id": "63L4N7it5v3G",
    "outputId": "50b2af40-4776-4a1f-b832-e95c239bc538"
   },
   "outputs": [],
   "source": [
    "samples = []\n",
    "mins = []\n",
    "maxs = []\n",
    "dyranges = []\n",
    "rs = []\n",
    "\n",
    "fig, axs = plt.subplots(side_size+1, side_size-1, figsize=(25,20), sharex='all', sharey='all');\n",
    "fig.tight_layout(pad=1, w_pad=2.5, h_pad=3.5)\n",
    "\n",
    "counter = 0\n",
    "list2counter = 0\n",
    "for ax in axs.flat:\n",
    "    \n",
    "    if(counter < len(columns_mix_1)-1):\n",
    "\n",
    "      nonzero_counts = nonzero_counts_list_1[counter]\n",
    "      xvalues = nonzero_counts['Conc']\n",
    "      yvalues = nonzero_counts['Counts']\n",
    "\n",
    "      sns.regplot(x=np.log2(xvalues), y=np.log2(yvalues), ax=ax);\n",
    "      ax.set_title(all_columns[counter][-47:], fontsize=8);\n",
    "      ax.set_xlabel('log2 Conc (attomoles/ul)', fontsize=8);\n",
    "      ax.set_ylabel('log2 Counts', fontsize=8);\n",
    "      ax.tick_params(direction='in', axis='both', labelsize=8, labelleft=True, labelbottom=True)\n",
    "      samples.append(all_columns[counter])\n",
    "\n",
    "      if(len(xvalues) == 0):\n",
    "        mins.append('NaN')\n",
    "        maxs.append('NaN')\n",
    "        dyranges.append('NaN')\n",
    "        rs.append('NaN')\n",
    "\n",
    "    \n",
    "      else:\n",
    "        min = xvalues[0];\n",
    "        mins.append(min)\n",
    "        minimum = f'Min:{min:.1f}';\n",
    "        max = xvalues[-1];\n",
    "        maxs.append(max)\n",
    "        maximum = f'Max:{max:.1f}';\n",
    "        dynamic_range = max / min;\n",
    "        dyranges.append(dynamic_range)\n",
    "        dyn_str = f'Dyn:{dynamic_range:.1f}';\n",
    "\n",
    "        ax.text(0.02, 0.98, minimum,\n",
    "        verticalalignment='top', horizontalalignment='left',\n",
    "        transform=ax.transAxes,\n",
    "        color='black', fontsize=10);\n",
    "      \n",
    "        ax.text(0.02, 0.88, maximum,\n",
    "        verticalalignment='top', horizontalalignment='left',\n",
    "        transform=ax.transAxes,\n",
    "        color='black', fontsize=10);\n",
    "      \n",
    "        ax.text(0.02, 0.78, dyn_str,verticalalignment='top',\n",
    "                horizontalalignment='left',transform=ax.transAxes,\n",
    "                color='black', fontsize=10);\n",
    "      \n",
    "        if(len(xvalues) == 1):\n",
    "          rs.append('NaN')\n",
    "\n",
    "        else:\n",
    "          slope, intercept, r, p, se = linregress(np.log2(xvalues), y=np.log2(yvalues))\n",
    "          r_str = f'R:{r:.2f}'\n",
    "          rs.append(r)\n",
    "\n",
    "          ax.text(0.02, 0.68, r_str, verticalalignment='top',\n",
    "                  horizontalalignment='left',transform=ax.transAxes,\n",
    "                  color='black', fontsize=10);\n",
    "    \n",
    "    elif(counter >= len(columns_mix_1) and counter < total_columns):\n",
    "      \n",
    "      nonzero_counts = nonzero_counts_list_2[list2counter]\n",
    "      xvalues = nonzero_counts['Conc']\n",
    "      yvalues = nonzero_counts['Counts']\n",
    "\n",
    "      sns.regplot(x=np.log2(xvalues), y=np.log2(yvalues), ax=ax);\n",
    "      ax.set_title(all_columns[counter][-47:], fontsize=8);\n",
    "      ax.set_xlabel('log2 Conc (attomoles/ul)', fontsize=8);\n",
    "      ax.set_ylabel('log2 Counts', fontsize=8);\n",
    "      ax.tick_params(direction='in', axis='both', labelsize=8, labelleft=True, labelbottom=True);\n",
    "      samples.append(all_columns[counter])\n",
    "\n",
    "\n",
    "      if(len(xvalues) == 0):\n",
    "        mins.append('NaN')\n",
    "        maxs.append('NaN')\n",
    "        dyranges.append('NaN')\n",
    "        rs.append('NaN')\n",
    "    \n",
    "      else:\n",
    "        min = xvalues[0];\n",
    "        mins.append(min)\n",
    "        minimum = f'Min:{min:.1f}';\n",
    "        max = xvalues[-1];\n",
    "        maxs.append(max)\n",
    "        maximum = f'Max:{max:.1f}';\n",
    "        dynamic_range = max / min;\n",
    "        dyranges.append(dynamic_range)\n",
    "        dyn_str = f'Dyn:{dynamic_range:.1f}';\n",
    "\n",
    "        ax.text(0.02, 0.98, minimum,\n",
    "        verticalalignment='top', horizontalalignment='left',\n",
    "        transform=ax.transAxes,\n",
    "        color='black', fontsize=10);\n",
    "      \n",
    "        ax.text(0.02, 0.88, maximum,\n",
    "        verticalalignment='top', horizontalalignment='left',\n",
    "        transform=ax.transAxes,\n",
    "        color='black', fontsize=10);\n",
    "      \n",
    "        ax.text(0.02, 0.78, dyn_str,verticalalignment='top',\n",
    "                horizontalalignment='left',transform=ax.transAxes,\n",
    "                color='black', fontsize=10);\n",
    "      \n",
    "        if(len(xvalues) == 1):\n",
    "          rs.append('NaN')\n",
    "          \n",
    "        else:\n",
    "          slope, intercept, r, p, se = linregress(np.log2(xvalues), y=np.log2(yvalues));\n",
    "          r_str = f'R:{r:.2f}';\n",
    "          rs.append(r)\n",
    "\n",
    "          ax.text(0.02, 0.68, r_str, verticalalignment='top',\n",
    "                  horizontalalignment='left',transform=ax.transAxes,\n",
    "                  color='black', fontsize=10);\n",
    "\n",
    "      list2counter = list2counter + 1\n",
    "    \n",
    "    else:\n",
    "      pass\n",
    "\n",
    "    counter = counter + 1"
   ]
  },
  {
   "cell_type": "code",
   "execution_count": null,
   "metadata": {},
   "outputs": [],
   "source": [
    "# Directory for saved files\n",
    "%mkdir ERCC"
   ]
  },
  {
   "cell_type": "markdown",
   "metadata": {},
   "source": [
    "Change to working GLDS# in the following files."
   ]
  },
  {
   "cell_type": "code",
   "execution_count": null,
   "metadata": {
    "id": "wvE9X3cu_sVU"
   },
   "outputs": [],
   "source": [
    "# Remember to change file names to GLDS# analyzing\n",
    "# Select files w/ suffix _mqc* prepare for MultiQC report \n",
    "stats = pd.DataFrame(list(zip(samples, mins, maxs, dyranges, rs)))\n",
    "stats.columns = ['Samples', 'Min', 'Max', 'Dynamic range', 'R']\n",
    "stats.to_csv('ERCC/ERCC_stats_GLDS-235.csv', index = False) \n",
    "stats.filter(items = ['Samples', 'Dynamic range']).to_csv('ERCC/ERCC_dynrange_GLDS-235_mqc.csv', index = False)\n",
    "stats.filter(items = ['Samples', 'R']).to_csv('ERCC/ERCC_rsq_GLDS-235_mqc.csv', index = False)"
   ]
  },
  {
   "cell_type": "markdown",
   "metadata": {},
   "source": [
    "## GeneLab Study Level ERCC \n",
    "This section shows an example of how the ERCC spike-ins can be used to assess the power of comparisons within a single study.\n",
    "\n",
    "In certain studies ERCC Mix 1 and Mix 2 are distributed so that all samples in Group 1 (e.g. Spaceflight) have Mix 1 and all samples in Group 2 (e.g. Ground Control). As certain transcripts in Mix 1 and Mix 2 are present at a known ratio, we can determine how well these patterns are revealed in the dataset."
   ]
  },
  {
   "cell_type": "code",
   "execution_count": null,
   "metadata": {},
   "outputs": [],
   "source": [
    "combined = sample_table.merge(assay_table, on='Sample Name')\n",
    "combined = combined.set_index(combined['Sample Name'])\n",
    "pd.set_option('max_columns', None)\n",
    "combined.head(n=3)"
   ]
  },
  {
   "cell_type": "markdown",
   "metadata": {},
   "source": [
    "Other GLDS studies (ie. Spaceflight) have other factor values.  It's important to inspect the factor values in your analysis. "
   ]
  },
  {
   "cell_type": "code",
   "execution_count": null,
   "metadata": {},
   "outputs": [],
   "source": [
    "# Select Euthanasia Method and Carcass Preservation Method  \n",
    "euthanasia = combined['Factor Value[Euthanasia Method]'].isin(['CO2', 'Ketamine/xylazine IP'])\n",
    "ln2 = combined['Factor Value[Carcass Preservation Method]'] == 'Liquid Nitrogen'"
   ]
  },
  {
   "cell_type": "code",
   "execution_count": null,
   "metadata": {},
   "outputs": [],
   "source": [
    "# Sometimes Number in [Spike-in Mix Number] is spelled 'number' and this could cause error in mismatch search \n",
    "fewsamples = combined[euthanasia].loc[:,['Factor Value[Euthanasia Method]','Parameter Value[Spike-in Mix Number]']]\n",
    "fewsamples.index = fewsamples.index.str.replace('-','_')"
   ]
  },
  {
   "cell_type": "code",
   "execution_count": null,
   "metadata": {},
   "outputs": [],
   "source": [
    "fewsamples.columns = ['Euthanasia','Mix']\n",
    "fewsamples.to_csv('ERCC/fewsamples.csv')"
   ]
  },
  {
   "cell_type": "code",
   "execution_count": null,
   "metadata": {},
   "outputs": [],
   "source": [
    "ercc_counts.columns = ercc_counts.columns.str.replace('-','_')\n",
    "fewcounts = ercc_counts.loc[:,fewsamples.index]"
   ]
  },
  {
   "cell_type": "code",
   "execution_count": null,
   "metadata": {},
   "outputs": [],
   "source": [
    "fewcounts.to_csv('ERCC/fewcounts.csv')"
   ]
  },
  {
   "cell_type": "markdown",
   "metadata": {},
   "source": [
    "## Perform DESeq2 analysis of ERCC counts\n",
    "\n",
    "Switch to R script to perform DE on ERCC unnormalized counts. Contrast (pair-wise) Mix 1 and Mix 2 comparison returns mean normalized counts, log2FC (fold change), p-value, adj. p-value."
   ]
  },
  {
   "cell_type": "code",
   "execution_count": null,
   "metadata": {},
   "outputs": [],
   "source": [
    "%load_ext rpy2.ipython"
   ]
  },
  {
   "cell_type": "code",
   "execution_count": null,
   "metadata": {},
   "outputs": [],
   "source": [
    "%%R\n",
    "if (!requireNamespace(\"BiocManager\", quietly = TRUE))\n",
    "    install.packages(\"BiocManager\")\n",
    "\n",
    "BiocManager::install(\"DESeq2\")"
   ]
  },
  {
   "cell_type": "code",
   "execution_count": null,
   "metadata": {},
   "outputs": [],
   "source": [
    "%%R\n",
    "library(\"DESeq2\")"
   ]
  },
  {
   "cell_type": "code",
   "execution_count": null,
   "metadata": {},
   "outputs": [],
   "source": [
    "%%R\n",
    "cts <- as.matrix(read.csv('ERCC/fewcounts.csv',sep=\",\",row.names=\"Gene_ID\"))\n",
    "coldata <- read.csv('ERCC/fewsamples.csv', row.names=1)"
   ]
  },
  {
   "cell_type": "code",
   "execution_count": null,
   "metadata": {},
   "outputs": [],
   "source": [
    "%%R\n",
    "coldata$Euthanasia <- factor(coldata$Euthanasia)\n",
    "coldata$Mix <- factor(coldata$Mix)"
   ]
  },
  {
   "cell_type": "code",
   "execution_count": null,
   "metadata": {},
   "outputs": [],
   "source": [
    "%%R\n",
    "all(rownames(coldata) == colnames(cts))"
   ]
  },
  {
   "cell_type": "code",
   "execution_count": null,
   "metadata": {},
   "outputs": [],
   "source": [
    "%%R\n",
    "dds <- DESeqDataSetFromMatrix(countData = cts,\n",
    "                              colData = coldata,\n",
    "                              design = ~ Mix)\n",
    "dds"
   ]
  },
  {
   "cell_type": "markdown",
   "metadata": {},
   "source": [
    "Not included here are standard deviation and average to Mix 1 and Mix 2 that are reported in conventional DESeq2. "
   ]
  },
  {
   "cell_type": "code",
   "execution_count": null,
   "metadata": {},
   "outputs": [],
   "source": [
    "%%R\n",
    "dds <- DESeq(dds)\n",
    "res <- results(dds, contrast=c(\"Mix\",\"Mix 1\",\"Mix 2\"))\n",
    "res"
   ]
  },
  {
   "cell_type": "code",
   "execution_count": null,
   "metadata": {},
   "outputs": [],
   "source": [
    "%%R\n",
    "write.csv(res, 'ERCC/ERCC_DESeq2.csv')"
   ]
  },
  {
   "cell_type": "code",
   "execution_count": null,
   "metadata": {},
   "outputs": [],
   "source": [
    "%%R\n",
    "normcounts = counts(dds, normalized=TRUE)\n",
    "write.csv(normcounts, 'ERCC/ERCC_normcounts.csv')"
   ]
  },
  {
   "cell_type": "markdown",
   "metadata": {},
   "source": [
    "## Analyze DESeq2 results"
   ]
  },
  {
   "cell_type": "code",
   "execution_count": null,
   "metadata": {},
   "outputs": [],
   "source": [
    "import pandas as pd\n",
    "from urllib.request import urlopen, quote, urlretrieve\n",
    "import seaborn as sns\n",
    "import matplotlib.pyplot as plt"
   ]
  },
  {
   "cell_type": "code",
   "execution_count": null,
   "metadata": {},
   "outputs": [],
   "source": [
    "deseq2out = pd.read_csv('ERCC/ERCC_DESeq2.csv', index_col=0)\n",
    "#deseq2out.index = deseq2out.index.str.replace('_','-')\n",
    "deseq2out.rename(columns ={'baseMean' : 'meanNormCounts'}, inplace = True)\n",
    "deseq2out.head()"
   ]
  },
  {
   "cell_type": "code",
   "execution_count": null,
   "metadata": {},
   "outputs": [],
   "source": [
    "# Get ERCC files\n",
    "ercc_url = 'https://assets.thermofisher.com/TFS-Assets/LSG/manuals/cms_095046.txt'\n",
    "filehandle, _ = urlretrieve(ercc_url)\n",
    "ercc_table = pd.read_csv(filehandle, '\\t', index_col='ERCC ID')\n",
    "ercc_table.head(n=3)"
   ]
  },
  {
   "cell_type": "code",
   "execution_count": null,
   "metadata": {},
   "outputs": [],
   "source": [
    "combined = deseq2out.merge(ercc_table, left_index=True, right_index=True)\n",
    "combined.head()"
   ]
  },
  {
   "cell_type": "code",
   "execution_count": null,
   "metadata": {},
   "outputs": [],
   "source": [
    "combined['cleaned_padj'] = combined['padj']\n",
    "combined.loc[(combined.cleaned_padj < 0.00001),'cleaned_padj']=0.00001\n",
    "\n",
    "combined['cleaned_pvalue'] = combined['pvalue']\n",
    "combined.loc[(combined.cleaned_pvalue < 0.00001),'cleaned_pvalue']=0.00001\n",
    "\n",
    "combined.head()"
   ]
  },
  {
   "cell_type": "code",
   "execution_count": null,
   "metadata": {},
   "outputs": [],
   "source": [
    "# Remember to change file name to GLDS# analyzing\n",
    "combined.filter(items = ['ERCC ID', 'meanNormCounts', 'cleaned_pvalue','cleaned_padj']).to_csv('ERCC/ERCC_lodr_GLDS-235_mqc.csv')"
   ]
  },
  {
   "cell_type": "code",
   "execution_count": null,
   "metadata": {},
   "outputs": [],
   "source": [
    "fig, ax = plt.subplots(figsize=(10, 7))\n",
    "\n",
    "sns.scatterplot(data=combined, x=\"meanNormCounts\", y=\"cleaned_pvalue\",\n",
    "            hue=\"expected fold-change ratio\",\n",
    "                palette=['red','green','black','blue'], ax=ax)\n",
    "\n",
    "sns.lineplot(data=combined, x=\"meanNormCounts\", y=\"cleaned_pvalue\",\n",
    "            hue=\"expected fold-change ratio\",\n",
    "                palette=['red','green','black','blue'], ax=ax)\n",
    "\n",
    "#g.set_xscale(\"log\", base=2)\n",
    "ax.set_xscale(\"linear\");\n",
    "ax.set_yscale(\"log\");"
   ]
  },
  {
   "cell_type": "code",
   "execution_count": null,
   "metadata": {},
   "outputs": [],
   "source": [
    "fig, ax = plt.subplots(figsize=(10, 7))\n",
    "\n",
    "sns.scatterplot(data=combined, x=\"meanNormCounts\", y=\"cleaned_padj\",\n",
    "            hue=\"expected fold-change ratio\",\n",
    "                palette=['red','green','black','blue'], ax=ax)\n",
    "\n",
    "sns.lineplot(data=combined, x=\"meanNormCounts\", y=\"cleaned_padj\",\n",
    "            hue=\"expected fold-change ratio\",\n",
    "                palette=['red','green','black','blue'], ax=ax)\n",
    "\n",
    "#g.set_xscale(\"log\", base=2)\n",
    "ax.set_xscale(\"linear\");\n",
    "ax.set_yscale(\"log\");"
   ]
  },
  {
   "cell_type": "markdown",
   "metadata": {},
   "source": [
    "Run MultiQC report on select *mqc files separately in command line. "
   ]
  },
  {
   "cell_type": "code",
   "execution_count": null,
   "metadata": {},
   "outputs": [],
   "source": []
  }
 ],
 "metadata": {
  "colab": {
   "name": "GLDS-246 Spleen ERCC.ipynb",
   "provenance": [],
   "toc_visible": true
  },
  "kernelspec": {
   "display_name": "Python 3",
   "language": "python",
   "name": "python3"
  },
  "language_info": {
   "codemirror_mode": {
    "name": "ipython",
    "version": 3
   },
   "file_extension": ".py",
   "mimetype": "text/x-python",
   "name": "python",
   "nbconvert_exporter": "python",
   "pygments_lexer": "ipython3",
   "version": "3.7.6"
  }
 },
 "nbformat": 4,
 "nbformat_minor": 1
}
