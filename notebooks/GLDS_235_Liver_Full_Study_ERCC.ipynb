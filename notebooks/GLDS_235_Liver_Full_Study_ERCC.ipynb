{
  "nbformat": 4,
  "nbformat_minor": 0,
  "metadata": {
    "colab": {
      "name": "GLDS-235 Liver ERCC.ipynb",
      "provenance": [],
      "collapsed_sections": [],
      "toc_visible": true,
      "include_colab_link": true
    },
    "kernelspec": {
      "name": "python3",
      "display_name": "Python 3"
    }
  },
  "cells": [
    {
      "cell_type": "markdown",
      "metadata": {
        "id": "view-in-github",
        "colab_type": "text"
      },
      "source": [
        "<a href=\"https://colab.research.google.com/github/jgalazka/ERCC_analysis/blob/main/notebooks/GLDS_235_Liver_Full_Study_ERCC.ipynb\" target=\"_parent\"><img src=\"https://colab.research.google.com/assets/colab-badge.svg\" alt=\"Open In Colab\"/></a>"
      ]
    },
    {
      "cell_type": "markdown",
      "metadata": {
        "id": "_FgeU1URxK4u"
      },
      "source": [
        "# GeneLab ERCC spike-in analysis notebook\n",
        "\n",
        "This notebook contains an analysis of RNA-seq counts data generated from ERCC spike-ins.\n",
        "\n",
        "Here GLDS-235 Liver is analyzed\n"
      ]
    },
    {
      "cell_type": "markdown",
      "metadata": {
        "id": "XjAkNk4Rx7zs"
      },
      "source": [
        "## Section 1: Setting up the notebook"
      ]
    },
    {
      "cell_type": "code",
      "metadata": {
        "id": "oBkWLKV7vYqm"
      },
      "source": [
        "# import python packages\n",
        "import pandas as pd\n",
        "import numpy as np\n",
        "from urllib.request import urlopen, quote, urlretrieve\n",
        "from json import loads\n",
        "from re import search\n",
        "import zipfile\n",
        "import seaborn as sns\n",
        "from scipy.stats import linregress"
      ],
      "execution_count": null,
      "outputs": []
    },
    {
      "cell_type": "code",
      "metadata": {
        "id": "HxCFgym_obZ_"
      },
      "source": [
        "# Function to pull metadata zip from GeneLab\n",
        "# Credit to Kirill Grigorev\n",
        "GENELAB_ROOT = \"https://genelab-data.ndc.nasa.gov\"\n",
        "GLDS_URL_PREFIX = GENELAB_ROOT + \"/genelab/data/study/data/\"\n",
        "FILELISTINGS_URL_PREFIX = GENELAB_ROOT + \"/genelab/data/study/filelistings/\"\n",
        "ISA_ZIP_REGEX = r'.*_metadata_.*[_-]ISA\\.zip$'\n",
        "\n",
        "def read_json(url):\n",
        "    with urlopen(url) as response:\n",
        "        return loads(response.read().decode())\n",
        "\n",
        "def get_isa(accession):\n",
        "    glds_json = read_json(GLDS_URL_PREFIX + accession)\n",
        "    try:\n",
        "        _id = glds_json[0][\"_id\"]\n",
        "    except (AssertionError, TypeError, KeyError, IndexError):\n",
        "        raise ValueError(\"Malformed JSON?\")\n",
        "    isa_entries = [\n",
        "        entry for entry in read_json(FILELISTINGS_URL_PREFIX + _id)\n",
        "        if search(ISA_ZIP_REGEX, entry[\"file_name\"])\n",
        "    ]\n",
        "    if len(isa_entries) == 0:\n",
        "        raise ValueError(\"Unexpected: no ISAs found\")\n",
        "    elif len(isa_entries) > 1:\n",
        "        raise ValueError(\"Unexpected: multiple files match the ISA regex\")\n",
        "    else:\n",
        "        entry = isa_entries[0]\n",
        "        version = entry[\"version\"]\n",
        "        url = GENELAB_ROOT + entry[\"remote_url\"] + \"?version={}\".format(version)\n",
        "        alt_url = (\n",
        "            GENELAB_ROOT + \"/genelab/static/media/dataset/\" +\n",
        "            quote(entry[\"file_name\"]) + \"?version={}\".format(version)\n",
        "        )\n",
        "        return entry[\"file_name\"], version, url, alt_url"
      ],
      "execution_count": null,
      "outputs": []
    },
    {
      "cell_type": "code",
      "metadata": {
        "id": "aI7AYKbdz3lF"
      },
      "source": [
        "# Function to pull unnormalized counts from GeneLab\n",
        "# Credit to Kirill Grigorev\n",
        "\n",
        "RAW_COUNTS_REGEX = r'.*_rna_seq_Unnormalized_Counts.csv'\n",
        "\n",
        "def get_rawcounts(accession):\n",
        "    glds_json = read_json(GLDS_URL_PREFIX + accession)\n",
        "    try:\n",
        "        _id = glds_json[0][\"_id\"]\n",
        "    except (AssertionError, TypeError, KeyError, IndexError):\n",
        "        raise ValueError(\"Malformed JSON?\")\n",
        "    raw_counts_entries = [\n",
        "        entry for entry in read_json(FILELISTINGS_URL_PREFIX + _id)\n",
        "        if search(RAW_COUNTS_REGEX, entry[\"file_name\"])\n",
        "    ]\n",
        "    if len(raw_counts_entries) == 0:\n",
        "        raise ValueError(\"Unexpected: no Raw Counts found\")\n",
        "    elif len(raw_counts_entries) > 1:\n",
        "        raise ValueError(\"Unexpected: multiple files match the Raw Counts regex\")\n",
        "    else:\n",
        "        entry = raw_counts_entries[0]\n",
        "        version = entry[\"version\"]\n",
        "        url = GENELAB_ROOT + entry[\"remote_url\"] + \"?version={}\".format(version)\n",
        "        alt_url = (\n",
        "            GENELAB_ROOT + \"/genelab/static/media/dataset/\" +\n",
        "            quote(entry[\"file_name\"]) + \"?version={}\".format(version)\n",
        "        )\n",
        "        return entry[\"file_name\"], version, url, alt_url"
      ],
      "execution_count": null,
      "outputs": []
    },
    {
      "cell_type": "markdown",
      "metadata": {
        "id": "iqa_fJERjJOl"
      },
      "source": [
        "## Get and parse data and metadata\n",
        "Get ISA, counts, and ERCC data."
      ]
    },
    {
      "cell_type": "code",
      "metadata": {
        "id": "rkuzK-uBjbPl"
      },
      "source": [
        "accession = 'GLDS-235' # Change this as necessary\n",
        "isaurl = get_isa(accession)[3]\n",
        "filehandle, _ = urlretrieve(isaurl)\n",
        "zip_file_object = zipfile.ZipFile(filehandle, 'r')\n",
        "zip_file_object.namelist() # Print contents of zip file. Pick relevant one from list"
      ],
      "execution_count": null,
      "outputs": []
    },
    {
      "cell_type": "code",
      "metadata": {
        "id": "-N4cZTGqnykW"
      },
      "source": [
        "sample_file = zip_file_object.namelist()[0]\n",
        "file = zip_file_object.open(sample_file)\n",
        "sample_table = pd.read_csv(zip_file_object.open(sample_file), sep='\\t')\n",
        "\n",
        "assay_file = zip_file_object.namelist()[2]\n",
        "file = zip_file_object.open(assay_file)\n",
        "assay_table = pd.read_csv(zip_file_object.open(assay_file), sep='\\t')"
      ],
      "execution_count": null,
      "outputs": []
    },
    {
      "cell_type": "code",
      "metadata": {
        "id": "4deR3YJroTeN"
      },
      "source": [
        "sample_table.head()"
      ],
      "execution_count": null,
      "outputs": []
    },
    {
      "cell_type": "code",
      "metadata": {
        "id": "EdVx2NR8q53l"
      },
      "source": [
        "assay_table.head()"
      ],
      "execution_count": null,
      "outputs": []
    },
    {
      "cell_type": "code",
      "metadata": {
        "id": "E1m_tgZe7HZB"
      },
      "source": [
        "# Get raw counts table\n",
        "raw_counts_file = get_rawcounts('GLDS-235')[3]\n",
        "raw_counts_table = pd.read_csv(raw_counts_file, index_col=0)\n",
        "raw_counts_table.index.rename('Gene_ID', inplace=True)\n",
        "raw_counts_table.head()"
      ],
      "execution_count": null,
      "outputs": []
    },
    {
      "cell_type": "code",
      "metadata": {
        "id": "Nn7MUfjlAMhh"
      },
      "source": [
        "# Get ERCC counts\n",
        "ercc_counts = raw_counts_table[raw_counts_table.index.str.contains('^ERCC-')]\n",
        "ercc_counts.head()"
      ],
      "execution_count": null,
      "outputs": []
    },
    {
      "cell_type": "code",
      "metadata": {
        "id": "G0mAVgi-7ibr"
      },
      "source": [
        "# Get ERCC files\n",
        "ercc_url = 'https://assets.thermofisher.com/TFS-Assets/LSG/manuals/cms_095046.txt'\n",
        "filehandle, _ = urlretrieve(ercc_url)\n",
        "ercc_table = pd.read_csv(filehandle, '\\t')\n",
        "ercc_table.head()"
      ],
      "execution_count": null,
      "outputs": []
    },
    {
      "cell_type": "markdown",
      "metadata": {
        "id": "e8CPmRST1hMl"
      },
      "source": [
        "## Single Sample ERCC Analysis\n",
        "Because samples may be combined by users outside of their original study, it is useful to have ERCC metrics that can be calculated from single samples. These could include: limit of detection, dynamic range, R^2 from measured vs expected plot, etc."
      ]
    },
    {
      "cell_type": "code",
      "metadata": {
        "id": "d9ekm6pj2QJn"
      },
      "source": [
        "# Limit of detection. Lowest abundance ERCC detected. Report attomoles/ul\n",
        "# Annotate ERCC counts table with Mix 1 and Mix 2 concentrations\n",
        "# Build dictionary of Mix 1 and Mix 2 values for each ERCC\n",
        "# Make a dictionary for ERCC concentrations for each mix\n",
        "mix1_conc_dict = dict(zip(ercc_table['ERCC ID'], ercc_table['concentration in Mix 1 (attomoles/ul)']))\n",
        "mix2_conc_dict = dict(zip(ercc_table['ERCC ID'], ercc_table['concentration in Mix 2 (attomoles/ul)']))"
      ],
      "execution_count": null,
      "outputs": []
    },
    {
      "cell_type": "code",
      "metadata": {
        "id": "e1HlX45-d065"
      },
      "source": [
        "# get samples that use mix 1 and mix 2\n",
        "mix1_samples = assay_table[assay_table['Parameter Value[Spike-in Mix Number]'] == 'Mix 1']['Sample Name']\n",
        "mix2_samples = assay_table[assay_table['Parameter Value[Spike-in Mix Number]'] == 'Mix 2']['Sample Name']"
      ],
      "execution_count": null,
      "outputs": []
    },
    {
      "cell_type": "code",
      "metadata": {
        "id": "5Ai3Cfv5ebAC"
      },
      "source": [
        "ercc_counts_mix_1 = ercc_counts[mix1_samples]\n",
        "ercc_counts_mix_1['ERCC conc'] = ercc_counts_mix_1.index.map(mix1_conc_dict)\n",
        "ercc_counts_mix_1.head()"
      ],
      "execution_count": null,
      "outputs": []
    },
    {
      "cell_type": "code",
      "metadata": {
        "id": "unf4Obp4itx2"
      },
      "source": [
        "ercc_counts_mix_2 = ercc_counts[mix2_samples]\n",
        "ercc_counts_mix_2['ERCC conc'] = ercc_counts_mix_2.index.map(mix2_conc_dict)\n",
        "ercc_counts_mix_2.head()"
      ],
      "execution_count": null,
      "outputs": []
    },
    {
      "cell_type": "code",
      "metadata": {
        "id": "kvwP4f9tmapM"
      },
      "source": [
        "columns = ercc_counts_mix_2.columns\n",
        "for i in range(0, len(columns)-1):\n",
        "  #print(columns[i])\n",
        "  sns.scatterplot(x=np.log2(ercc_counts_mix_2['ERCC conc']), y=np.log2(ercc_counts_mix_2[columns[i]]+1))"
      ],
      "execution_count": null,
      "outputs": []
    },
    {
      "cell_type": "code",
      "metadata": {
        "id": "h7hP39JHs2BM"
      },
      "source": [
        "columns = ercc_counts_mix_2.columns\n",
        "counts = ercc_counts_mix_2[columns[1]]\n",
        "sns.scatterplot(x=np.log2(ercc_counts_mix_2['ERCC conc']), y=np.log2(counts+1))"
      ],
      "execution_count": null,
      "outputs": []
    },
    {
      "cell_type": "code",
      "metadata": {
        "id": "fgCCpvvhDbhn"
      },
      "source": [
        "counts = ercc_counts_mix_2[columns[1]]\n",
        "counts.index.rename('Gene_ID', inplace=True)\n",
        "countsdf = pd.DataFrame(counts)\n",
        "countsdf\n",
        "nonzero_counts = countsdf[ercc_counts_mix_2[columns[1]] > 0]\n",
        "nonzero_counts['Conc'] = nonzero_counts.index.map(mix2_conc_dict)\n",
        "nonzero_counts.columns = ['Counts','Conc']\n",
        "nonzero_counts\n",
        "sns.regplot(np.log2(nonzero_counts['Conc']), y=np.log2(nonzero_counts['Counts']))"
      ],
      "execution_count": null,
      "outputs": []
    },
    {
      "cell_type": "code",
      "metadata": {
        "id": "gP0wN-TnMFKu"
      },
      "source": [
        "slope, intercept, r, p, se = linregress(np.log2(nonzero_counts['Conc']), y=np.log2(nonzero_counts['Counts']))\n",
        "print(r)"
      ],
      "execution_count": null,
      "outputs": []
    },
    {
      "cell_type": "code",
      "metadata": {
        "id": "0dPu4LnRNQBV"
      },
      "source": [
        "# Measure minimum detected\n",
        "nonzero_counts.sort_values('Conc')\n",
        "min = nonzero_counts.sort_values('Conc')['Conc'][0]\n",
        "min"
      ],
      "execution_count": null,
      "outputs": []
    },
    {
      "cell_type": "code",
      "metadata": {
        "id": "Bt6batLkOozc"
      },
      "source": [
        "# Measure maximum detected\n",
        "nonzero_counts.sort_values('Conc')\n",
        "max = nonzero_counts.sort_values('Conc', ascending=False)['Conc'][0]\n",
        "max"
      ],
      "execution_count": null,
      "outputs": []
    },
    {
      "cell_type": "code",
      "metadata": {
        "id": "V6MI_s-WPFIx"
      },
      "source": [
        "dynamic_range = max / min\n",
        "dynamic_range"
      ],
      "execution_count": null,
      "outputs": []
    },
    {
      "cell_type": "code",
      "metadata": {
        "id": "KOcDDp_HrRnI"
      },
      "source": [
        "columns = ercc_counts_mix_1.columns\n",
        "for i in range(0, len(columns)-1):\n",
        "  #print(columns[i])\n",
        "  sns.scatterplot(x=np.log2(ercc_counts_mix_1['ERCC conc']), y=np.log2(ercc_counts_mix_1[columns[i]]+1))"
      ],
      "execution_count": null,
      "outputs": []
    },
    {
      "cell_type": "code",
      "metadata": {
        "id": "DzAAQZHItFz3"
      },
      "source": [
        "columns = ercc_counts_mix_1.columns\n",
        "sns.scatterplot(x=np.log2(ercc_counts_mix_1['ERCC conc']), y=np.log2(ercc_counts_mix_1[columns[1]]+1))"
      ],
      "execution_count": null,
      "outputs": []
    },
    {
      "cell_type": "markdown",
      "metadata": {
        "id": "Qn1fUyNy2TAW"
      },
      "source": [
        "## Full Study ERCC Analysis\n",
        "In some studies, Mix 1 and Mix 2 are added to samples in a way that allows the power of a study to be evaluated. For example, all flight samples may contain Mix 1 while all ground contain Mix 2. In this case, using the ERCC Dashboard package allows an assessment of DE analysis between flight and ground by using the know ratios of transcripts in the ERCC Mix 1 and Mix 2 standards."
      ]
    },
    {
      "cell_type": "code",
      "metadata": {
        "colab": {
          "base_uri": "https://localhost:8080/"
        },
        "id": "QXz3miPTvOJ7",
        "outputId": "1020e99e-4513-4f6a-f323-a5b8628cf941"
      },
      "source": [
        "# Set-up notebook to allow inline running of R code\n",
        "# Having done this, any code block starting with %RR will be run as R\n",
        "# pip install rpy2 once before running line below\n",
        "%load_ext rpy2.ipython"
      ],
      "execution_count": 2,
      "outputs": [
        {
          "output_type": "stream",
          "text": [
            "/usr/local/lib/python3.6/dist-packages/rpy2/robjects/pandas2ri.py:14: FutureWarning: pandas.core.index is deprecated and will be removed in a future version.  The public classes are available in the top-level namespace.\n",
            "  from pandas.core.index import Index as PandasIndex\n",
            "/usr/local/lib/python3.6/dist-packages/rpy2/robjects/pandas2ri.py:34: UserWarning: pandas >= 1.0 is not supported.\n",
            "  warnings.warn('pandas >= 1.0 is not supported.')\n"
          ],
          "name": "stderr"
        }
      ]
    },
    {
      "cell_type": "code",
      "metadata": {
        "id": "wq2vo2Slvamn",
        "colab": {
          "base_uri": "https://localhost:8080/"
        },
        "outputId": "8125a87f-9a29-4b59-ec2d-fbcbf04e799e"
      },
      "source": [
        "# Install R libraries necessary\n",
        "%%R\n",
        "if (!requireNamespace(\"BiocManager\", quietly = TRUE))\n",
        "    install.packages(\"BiocManager\")\n",
        "BiocManager::install(\"erccdashboard\")\n",
        "install.packages(\"pacman\")"
      ],
      "execution_count": 3,
      "outputs": [
        {
          "output_type": "stream",
          "text": [
            "R[write to console]: Installing package into ‘/usr/local/lib/R/site-library’\n",
            "(as ‘lib’ is unspecified)\n",
            "\n",
            "R[write to console]: trying URL 'https://cran.rstudio.com/src/contrib/BiocManager_1.30.10.tar.gz'\n",
            "\n",
            "R[write to console]: Content type 'application/x-gzip'\n",
            "R[write to console]:  length 40205 bytes (39 KB)\n",
            "\n",
            "R[write to console]: =\n",
            "R[write to console]: =\n",
            "R[write to console]: =\n",
            "R[write to console]: =\n",
            "R[write to console]: =\n",
            "R[write to console]: =\n",
            "R[write to console]: =\n",
            "R[write to console]: =\n",
            "R[write to console]: =\n",
            "R[write to console]: =\n",
            "R[write to console]: =\n",
            "R[write to console]: =\n",
            "R[write to console]: =\n",
            "R[write to console]: =\n",
            "R[write to console]: =\n",
            "R[write to console]: =\n",
            "R[write to console]: =\n",
            "R[write to console]: =\n",
            "R[write to console]: =\n",
            "R[write to console]: =\n",
            "R[write to console]: =\n",
            "R[write to console]: =\n",
            "R[write to console]: =\n",
            "R[write to console]: =\n",
            "R[write to console]: =\n",
            "R[write to console]: =\n",
            "R[write to console]: =\n",
            "R[write to console]: =\n",
            "R[write to console]: =\n",
            "R[write to console]: =\n",
            "R[write to console]: =\n",
            "R[write to console]: =\n",
            "R[write to console]: =\n",
            "R[write to console]: =\n",
            "R[write to console]: =\n",
            "R[write to console]: =\n",
            "R[write to console]: =\n",
            "R[write to console]: =\n",
            "R[write to console]: =\n",
            "R[write to console]: =\n",
            "R[write to console]: =\n",
            "R[write to console]: =\n",
            "R[write to console]: =\n",
            "R[write to console]: =\n",
            "R[write to console]: =\n",
            "R[write to console]: =\n",
            "R[write to console]: =\n",
            "R[write to console]: =\n",
            "R[write to console]: =\n",
            "R[write to console]: =\n",
            "R[write to console]: \n",
            "\n",
            "R[write to console]: downloaded 39 KB\n",
            "\n",
            "\n",
            "R[write to console]: \n",
            "\n",
            "R[write to console]: \n",
            "R[write to console]: The downloaded source packages are in\n",
            "\t‘/tmp/RtmpbSBIhb/downloaded_packages’\n",
            "R[write to console]: \n",
            "R[write to console]: \n",
            "\n",
            "R[write to console]: Bioconductor version 3.12 (BiocManager 1.30.10), R 4.0.3 (2020-10-10)\n",
            "\n",
            "R[write to console]: Installing package(s) 'BiocVersion', 'erccdashboard'\n",
            "\n",
            "R[write to console]: also installing the dependencies ‘bitops’, ‘caTools’, ‘gridExtra’, ‘edgeR’, ‘gplots’, ‘gtools’, ‘limma’, ‘locfit’, ‘plyr’, ‘qvalue’, ‘reshape2’, ‘ROCR’\n",
            "\n",
            "\n",
            "R[write to console]: trying URL 'https://cran.rstudio.com/src/contrib/bitops_1.0-6.tar.gz'\n",
            "\n",
            "R[write to console]: Content type 'application/x-gzip'\n",
            "R[write to console]:  length 8734 bytes\n",
            "\n",
            "R[write to console]: =\n",
            "R[write to console]: =\n",
            "R[write to console]: =\n",
            "R[write to console]: =\n",
            "R[write to console]: =\n",
            "R[write to console]: =\n",
            "R[write to console]: =\n",
            "R[write to console]: =\n",
            "R[write to console]: =\n",
            "R[write to console]: =\n",
            "R[write to console]: =\n",
            "R[write to console]: =\n",
            "R[write to console]: =\n",
            "R[write to console]: =\n",
            "R[write to console]: =\n",
            "R[write to console]: =\n",
            "R[write to console]: =\n",
            "R[write to console]: =\n",
            "R[write to console]: =\n",
            "R[write to console]: =\n",
            "R[write to console]: =\n",
            "R[write to console]: =\n",
            "R[write to console]: =\n",
            "R[write to console]: =\n",
            "R[write to console]: =\n",
            "R[write to console]: =\n",
            "R[write to console]: =\n",
            "R[write to console]: =\n",
            "R[write to console]: =\n",
            "R[write to console]: =\n",
            "R[write to console]: =\n",
            "R[write to console]: =\n",
            "R[write to console]: =\n",
            "R[write to console]: =\n",
            "R[write to console]: =\n",
            "R[write to console]: =\n",
            "R[write to console]: =\n",
            "R[write to console]: =\n",
            "R[write to console]: =\n",
            "R[write to console]: =\n",
            "R[write to console]: =\n",
            "R[write to console]: =\n",
            "R[write to console]: =\n",
            "R[write to console]: =\n",
            "R[write to console]: =\n",
            "R[write to console]: =\n",
            "R[write to console]: =\n",
            "R[write to console]: =\n",
            "R[write to console]: =\n",
            "R[write to console]: =\n",
            "R[write to console]: \n",
            "\n",
            "R[write to console]: downloaded 8734 bytes\n",
            "\n",
            "\n",
            "R[write to console]: trying URL 'https://cran.rstudio.com/src/contrib/caTools_1.18.1.tar.gz'\n",
            "\n",
            "R[write to console]: Content type 'application/x-gzip'\n",
            "R[write to console]:  length 64984 bytes (63 KB)\n",
            "\n",
            "R[write to console]: =\n",
            "R[write to console]: =\n",
            "R[write to console]: =\n",
            "R[write to console]: =\n",
            "R[write to console]: =\n",
            "R[write to console]: =\n",
            "R[write to console]: =\n",
            "R[write to console]: =\n",
            "R[write to console]: =\n",
            "R[write to console]: =\n",
            "R[write to console]: =\n",
            "R[write to console]: =\n",
            "R[write to console]: =\n",
            "R[write to console]: =\n",
            "R[write to console]: =\n",
            "R[write to console]: =\n",
            "R[write to console]: =\n",
            "R[write to console]: =\n",
            "R[write to console]: =\n",
            "R[write to console]: =\n",
            "R[write to console]: =\n",
            "R[write to console]: =\n",
            "R[write to console]: =\n",
            "R[write to console]: =\n",
            "R[write to console]: =\n",
            "R[write to console]: =\n",
            "R[write to console]: =\n",
            "R[write to console]: =\n",
            "R[write to console]: =\n",
            "R[write to console]: =\n",
            "R[write to console]: =\n",
            "R[write to console]: =\n",
            "R[write to console]: =\n",
            "R[write to console]: =\n",
            "R[write to console]: =\n",
            "R[write to console]: =\n",
            "R[write to console]: =\n",
            "R[write to console]: =\n",
            "R[write to console]: =\n",
            "R[write to console]: =\n",
            "R[write to console]: =\n",
            "R[write to console]: =\n",
            "R[write to console]: =\n",
            "R[write to console]: =\n",
            "R[write to console]: =\n",
            "R[write to console]: =\n",
            "R[write to console]: =\n",
            "R[write to console]: =\n",
            "R[write to console]: =\n",
            "R[write to console]: =\n",
            "R[write to console]: \n",
            "\n",
            "R[write to console]: downloaded 63 KB\n",
            "\n",
            "\n",
            "R[write to console]: trying URL 'https://cran.rstudio.com/src/contrib/gridExtra_2.3.tar.gz'\n",
            "\n",
            "R[write to console]: Content type 'application/x-gzip'\n",
            "R[write to console]:  length 1062844 bytes (1.0 MB)\n",
            "\n",
            "R[write to console]: =\n",
            "R[write to console]: =\n",
            "R[write to console]: =\n",
            "R[write to console]: =\n",
            "R[write to console]: =\n",
            "R[write to console]: =\n",
            "R[write to console]: =\n",
            "R[write to console]: =\n",
            "R[write to console]: =\n",
            "R[write to console]: =\n",
            "R[write to console]: =\n",
            "R[write to console]: =\n",
            "R[write to console]: =\n",
            "R[write to console]: =\n",
            "R[write to console]: =\n",
            "R[write to console]: =\n",
            "R[write to console]: =\n",
            "R[write to console]: =\n",
            "R[write to console]: =\n",
            "R[write to console]: =\n",
            "R[write to console]: =\n",
            "R[write to console]: =\n",
            "R[write to console]: =\n",
            "R[write to console]: =\n",
            "R[write to console]: =\n",
            "R[write to console]: =\n",
            "R[write to console]: =\n",
            "R[write to console]: =\n",
            "R[write to console]: =\n",
            "R[write to console]: =\n",
            "R[write to console]: =\n",
            "R[write to console]: =\n",
            "R[write to console]: =\n",
            "R[write to console]: =\n",
            "R[write to console]: =\n",
            "R[write to console]: =\n",
            "R[write to console]: =\n",
            "R[write to console]: =\n",
            "R[write to console]: =\n",
            "R[write to console]: =\n",
            "R[write to console]: =\n",
            "R[write to console]: =\n",
            "R[write to console]: =\n",
            "R[write to console]: =\n",
            "R[write to console]: =\n",
            "R[write to console]: =\n",
            "R[write to console]: =\n",
            "R[write to console]: =\n",
            "R[write to console]: =\n",
            "R[write to console]: =\n",
            "R[write to console]: \n",
            "\n",
            "R[write to console]: downloaded 1.0 MB\n",
            "\n",
            "\n",
            "R[write to console]: trying URL 'https://bioconductor.org/packages/3.12/bioc/src/contrib/edgeR_3.32.1.tar.gz'\n",
            "\n",
            "R[write to console]: Content type 'application/x-gzip'\n",
            "R[write to console]:  length 1614102 bytes (1.5 MB)\n",
            "\n",
            "R[write to console]: =\n",
            "R[write to console]: =\n",
            "R[write to console]: =\n",
            "R[write to console]: =\n",
            "R[write to console]: =\n",
            "R[write to console]: =\n",
            "R[write to console]: =\n",
            "R[write to console]: =\n",
            "R[write to console]: =\n",
            "R[write to console]: =\n",
            "R[write to console]: =\n",
            "R[write to console]: =\n",
            "R[write to console]: =\n",
            "R[write to console]: =\n",
            "R[write to console]: =\n",
            "R[write to console]: =\n",
            "R[write to console]: =\n",
            "R[write to console]: =\n",
            "R[write to console]: =\n",
            "R[write to console]: =\n",
            "R[write to console]: =\n",
            "R[write to console]: =\n",
            "R[write to console]: =\n",
            "R[write to console]: =\n",
            "R[write to console]: =\n",
            "R[write to console]: =\n",
            "R[write to console]: =\n",
            "R[write to console]: =\n",
            "R[write to console]: =\n",
            "R[write to console]: =\n",
            "R[write to console]: =\n",
            "R[write to console]: =\n",
            "R[write to console]: =\n",
            "R[write to console]: =\n",
            "R[write to console]: =\n",
            "R[write to console]: =\n",
            "R[write to console]: =\n",
            "R[write to console]: =\n",
            "R[write to console]: =\n",
            "R[write to console]: =\n",
            "R[write to console]: =\n",
            "R[write to console]: =\n",
            "R[write to console]: =\n",
            "R[write to console]: =\n",
            "R[write to console]: =\n",
            "R[write to console]: =\n",
            "R[write to console]: =\n",
            "R[write to console]: =\n",
            "R[write to console]: =\n",
            "R[write to console]: =\n",
            "R[write to console]: \n",
            "\n",
            "R[write to console]: downloaded 1.5 MB\n",
            "\n",
            "\n",
            "R[write to console]: trying URL 'https://cran.rstudio.com/src/contrib/gplots_3.1.1.tar.gz'\n",
            "\n",
            "R[write to console]: Content type 'application/x-gzip'\n",
            "R[write to console]:  length 520248 bytes (508 KB)\n",
            "\n",
            "R[write to console]: =\n",
            "R[write to console]: =\n",
            "R[write to console]: =\n",
            "R[write to console]: =\n",
            "R[write to console]: =\n",
            "R[write to console]: =\n",
            "R[write to console]: =\n",
            "R[write to console]: =\n",
            "R[write to console]: =\n",
            "R[write to console]: =\n",
            "R[write to console]: =\n",
            "R[write to console]: =\n",
            "R[write to console]: =\n",
            "R[write to console]: =\n",
            "R[write to console]: =\n",
            "R[write to console]: =\n",
            "R[write to console]: =\n",
            "R[write to console]: =\n",
            "R[write to console]: =\n",
            "R[write to console]: =\n",
            "R[write to console]: =\n",
            "R[write to console]: =\n",
            "R[write to console]: =\n",
            "R[write to console]: =\n",
            "R[write to console]: =\n",
            "R[write to console]: =\n",
            "R[write to console]: =\n",
            "R[write to console]: =\n",
            "R[write to console]: =\n",
            "R[write to console]: =\n",
            "R[write to console]: =\n",
            "R[write to console]: =\n",
            "R[write to console]: =\n",
            "R[write to console]: =\n",
            "R[write to console]: =\n",
            "R[write to console]: =\n",
            "R[write to console]: =\n",
            "R[write to console]: =\n",
            "R[write to console]: =\n",
            "R[write to console]: =\n",
            "R[write to console]: =\n",
            "R[write to console]: =\n",
            "R[write to console]: =\n",
            "R[write to console]: =\n",
            "R[write to console]: =\n",
            "R[write to console]: =\n",
            "R[write to console]: =\n",
            "R[write to console]: =\n",
            "R[write to console]: =\n",
            "R[write to console]: =\n",
            "R[write to console]: \n",
            "\n",
            "R[write to console]: downloaded 508 KB\n",
            "\n",
            "\n",
            "R[write to console]: trying URL 'https://cran.rstudio.com/src/contrib/gtools_3.8.2.tar.gz'\n",
            "\n",
            "R[write to console]: Content type 'application/x-gzip'\n",
            "R[write to console]:  length 197529 bytes (192 KB)\n",
            "\n",
            "R[write to console]: =\n",
            "R[write to console]: =\n",
            "R[write to console]: =\n",
            "R[write to console]: =\n",
            "R[write to console]: =\n",
            "R[write to console]: =\n",
            "R[write to console]: =\n",
            "R[write to console]: =\n",
            "R[write to console]: =\n",
            "R[write to console]: =\n",
            "R[write to console]: =\n",
            "R[write to console]: =\n",
            "R[write to console]: =\n",
            "R[write to console]: =\n",
            "R[write to console]: =\n",
            "R[write to console]: =\n",
            "R[write to console]: =\n",
            "R[write to console]: =\n",
            "R[write to console]: =\n",
            "R[write to console]: =\n",
            "R[write to console]: =\n",
            "R[write to console]: =\n",
            "R[write to console]: =\n",
            "R[write to console]: =\n",
            "R[write to console]: =\n",
            "R[write to console]: =\n",
            "R[write to console]: =\n",
            "R[write to console]: =\n",
            "R[write to console]: =\n",
            "R[write to console]: =\n",
            "R[write to console]: =\n",
            "R[write to console]: =\n",
            "R[write to console]: =\n",
            "R[write to console]: =\n",
            "R[write to console]: =\n",
            "R[write to console]: =\n",
            "R[write to console]: =\n",
            "R[write to console]: =\n",
            "R[write to console]: =\n",
            "R[write to console]: =\n",
            "R[write to console]: =\n",
            "R[write to console]: =\n",
            "R[write to console]: =\n",
            "R[write to console]: =\n",
            "R[write to console]: =\n",
            "R[write to console]: =\n",
            "R[write to console]: =\n",
            "R[write to console]: =\n",
            "R[write to console]: =\n",
            "R[write to console]: =\n",
            "R[write to console]: \n",
            "\n",
            "R[write to console]: downloaded 192 KB\n",
            "\n",
            "\n",
            "R[write to console]: trying URL 'https://bioconductor.org/packages/3.12/bioc/src/contrib/limma_3.46.0.tar.gz'\n",
            "\n",
            "R[write to console]: Content type 'application/x-gzip'\n",
            "R[write to console]:  length 1527170 bytes (1.5 MB)\n",
            "\n",
            "R[write to console]: =\n",
            "R[write to console]: =\n",
            "R[write to console]: =\n",
            "R[write to console]: =\n",
            "R[write to console]: =\n",
            "R[write to console]: =\n",
            "R[write to console]: =\n",
            "R[write to console]: =\n",
            "R[write to console]: =\n",
            "R[write to console]: =\n",
            "R[write to console]: =\n",
            "R[write to console]: =\n",
            "R[write to console]: =\n",
            "R[write to console]: =\n",
            "R[write to console]: =\n",
            "R[write to console]: =\n",
            "R[write to console]: =\n",
            "R[write to console]: =\n",
            "R[write to console]: =\n",
            "R[write to console]: =\n",
            "R[write to console]: =\n",
            "R[write to console]: =\n",
            "R[write to console]: =\n",
            "R[write to console]: =\n",
            "R[write to console]: =\n",
            "R[write to console]: =\n",
            "R[write to console]: =\n",
            "R[write to console]: =\n",
            "R[write to console]: =\n",
            "R[write to console]: =\n",
            "R[write to console]: =\n",
            "R[write to console]: =\n",
            "R[write to console]: =\n",
            "R[write to console]: =\n",
            "R[write to console]: =\n",
            "R[write to console]: =\n",
            "R[write to console]: =\n",
            "R[write to console]: =\n",
            "R[write to console]: =\n",
            "R[write to console]: =\n",
            "R[write to console]: =\n",
            "R[write to console]: =\n",
            "R[write to console]: =\n",
            "R[write to console]: =\n",
            "R[write to console]: =\n",
            "R[write to console]: =\n",
            "R[write to console]: =\n",
            "R[write to console]: =\n",
            "R[write to console]: =\n",
            "R[write to console]: =\n",
            "R[write to console]: \n",
            "\n",
            "R[write to console]: downloaded 1.5 MB\n",
            "\n",
            "\n",
            "R[write to console]: trying URL 'https://cran.rstudio.com/src/contrib/locfit_1.5-9.4.tar.gz'\n",
            "\n",
            "R[write to console]: Content type 'application/x-gzip'\n",
            "R[write to console]:  length 200998 bytes (196 KB)\n",
            "\n",
            "R[write to console]: =\n",
            "R[write to console]: =\n",
            "R[write to console]: =\n",
            "R[write to console]: =\n",
            "R[write to console]: =\n",
            "R[write to console]: =\n",
            "R[write to console]: =\n",
            "R[write to console]: =\n",
            "R[write to console]: =\n",
            "R[write to console]: =\n",
            "R[write to console]: =\n",
            "R[write to console]: =\n",
            "R[write to console]: =\n",
            "R[write to console]: =\n",
            "R[write to console]: =\n",
            "R[write to console]: =\n",
            "R[write to console]: =\n",
            "R[write to console]: =\n",
            "R[write to console]: =\n",
            "R[write to console]: =\n",
            "R[write to console]: =\n",
            "R[write to console]: =\n",
            "R[write to console]: =\n",
            "R[write to console]: =\n",
            "R[write to console]: =\n",
            "R[write to console]: =\n",
            "R[write to console]: =\n",
            "R[write to console]: =\n",
            "R[write to console]: =\n",
            "R[write to console]: =\n",
            "R[write to console]: =\n",
            "R[write to console]: =\n",
            "R[write to console]: =\n",
            "R[write to console]: =\n",
            "R[write to console]: =\n",
            "R[write to console]: =\n",
            "R[write to console]: =\n",
            "R[write to console]: =\n",
            "R[write to console]: =\n",
            "R[write to console]: =\n",
            "R[write to console]: =\n",
            "R[write to console]: =\n",
            "R[write to console]: =\n",
            "R[write to console]: =\n",
            "R[write to console]: =\n",
            "R[write to console]: =\n",
            "R[write to console]: =\n",
            "R[write to console]: =\n",
            "R[write to console]: =\n",
            "R[write to console]: =\n",
            "R[write to console]: \n",
            "\n",
            "R[write to console]: downloaded 196 KB\n",
            "\n",
            "\n",
            "R[write to console]: trying URL 'https://cran.rstudio.com/src/contrib/plyr_1.8.6.tar.gz'\n",
            "\n",
            "R[write to console]: Content type 'application/x-gzip'\n",
            "R[write to console]:  length 401191 bytes (391 KB)\n",
            "\n",
            "R[write to console]: =\n",
            "R[write to console]: =\n",
            "R[write to console]: =\n",
            "R[write to console]: =\n",
            "R[write to console]: =\n",
            "R[write to console]: =\n",
            "R[write to console]: =\n",
            "R[write to console]: =\n",
            "R[write to console]: =\n",
            "R[write to console]: =\n",
            "R[write to console]: =\n",
            "R[write to console]: =\n",
            "R[write to console]: =\n",
            "R[write to console]: =\n",
            "R[write to console]: =\n",
            "R[write to console]: =\n",
            "R[write to console]: =\n",
            "R[write to console]: =\n",
            "R[write to console]: =\n",
            "R[write to console]: =\n",
            "R[write to console]: =\n",
            "R[write to console]: =\n",
            "R[write to console]: =\n",
            "R[write to console]: =\n",
            "R[write to console]: =\n",
            "R[write to console]: =\n",
            "R[write to console]: =\n",
            "R[write to console]: =\n",
            "R[write to console]: =\n",
            "R[write to console]: =\n",
            "R[write to console]: =\n",
            "R[write to console]: =\n",
            "R[write to console]: =\n",
            "R[write to console]: =\n",
            "R[write to console]: =\n",
            "R[write to console]: =\n",
            "R[write to console]: =\n",
            "R[write to console]: =\n",
            "R[write to console]: =\n",
            "R[write to console]: =\n",
            "R[write to console]: =\n",
            "R[write to console]: =\n",
            "R[write to console]: =\n",
            "R[write to console]: =\n",
            "R[write to console]: =\n",
            "R[write to console]: =\n",
            "R[write to console]: =\n",
            "R[write to console]: =\n",
            "R[write to console]: =\n",
            "R[write to console]: =\n",
            "R[write to console]: \n",
            "\n",
            "R[write to console]: downloaded 391 KB\n",
            "\n",
            "\n",
            "R[write to console]: trying URL 'https://bioconductor.org/packages/3.12/bioc/src/contrib/qvalue_2.22.0.tar.gz'\n",
            "\n",
            "R[write to console]: Content type 'application/x-gzip'\n",
            "R[write to console]:  length 2758632 bytes (2.6 MB)\n",
            "\n",
            "R[write to console]: =\n",
            "R[write to console]: =\n",
            "R[write to console]: =\n",
            "R[write to console]: =\n",
            "R[write to console]: =\n",
            "R[write to console]: =\n",
            "R[write to console]: =\n",
            "R[write to console]: =\n",
            "R[write to console]: =\n",
            "R[write to console]: =\n",
            "R[write to console]: =\n",
            "R[write to console]: =\n",
            "R[write to console]: =\n",
            "R[write to console]: =\n",
            "R[write to console]: =\n",
            "R[write to console]: =\n",
            "R[write to console]: =\n",
            "R[write to console]: =\n",
            "R[write to console]: =\n",
            "R[write to console]: =\n",
            "R[write to console]: =\n",
            "R[write to console]: =\n",
            "R[write to console]: =\n",
            "R[write to console]: =\n",
            "R[write to console]: =\n",
            "R[write to console]: =\n",
            "R[write to console]: =\n",
            "R[write to console]: =\n",
            "R[write to console]: =\n",
            "R[write to console]: =\n",
            "R[write to console]: =\n",
            "R[write to console]: =\n",
            "R[write to console]: =\n",
            "R[write to console]: =\n",
            "R[write to console]: =\n",
            "R[write to console]: =\n",
            "R[write to console]: =\n",
            "R[write to console]: =\n",
            "R[write to console]: =\n",
            "R[write to console]: =\n",
            "R[write to console]: =\n",
            "R[write to console]: =\n",
            "R[write to console]: =\n",
            "R[write to console]: =\n",
            "R[write to console]: =\n",
            "R[write to console]: =\n",
            "R[write to console]: =\n",
            "R[write to console]: =\n",
            "R[write to console]: =\n",
            "R[write to console]: =\n",
            "R[write to console]: \n",
            "\n",
            "R[write to console]: downloaded 2.6 MB\n",
            "\n",
            "\n",
            "R[write to console]: trying URL 'https://cran.rstudio.com/src/contrib/reshape2_1.4.4.tar.gz'\n",
            "\n",
            "R[write to console]: Content type 'application/x-gzip'\n",
            "R[write to console]:  length 37307 bytes (36 KB)\n",
            "\n",
            "R[write to console]: =\n",
            "R[write to console]: =\n",
            "R[write to console]: =\n",
            "R[write to console]: =\n",
            "R[write to console]: =\n",
            "R[write to console]: =\n",
            "R[write to console]: =\n",
            "R[write to console]: =\n",
            "R[write to console]: =\n",
            "R[write to console]: =\n",
            "R[write to console]: =\n",
            "R[write to console]: =\n",
            "R[write to console]: =\n",
            "R[write to console]: =\n",
            "R[write to console]: =\n",
            "R[write to console]: =\n",
            "R[write to console]: =\n",
            "R[write to console]: =\n",
            "R[write to console]: =\n",
            "R[write to console]: =\n",
            "R[write to console]: =\n",
            "R[write to console]: =\n",
            "R[write to console]: =\n",
            "R[write to console]: =\n",
            "R[write to console]: =\n",
            "R[write to console]: =\n",
            "R[write to console]: =\n",
            "R[write to console]: =\n",
            "R[write to console]: =\n",
            "R[write to console]: =\n",
            "R[write to console]: =\n",
            "R[write to console]: =\n",
            "R[write to console]: =\n",
            "R[write to console]: =\n",
            "R[write to console]: =\n",
            "R[write to console]: =\n",
            "R[write to console]: =\n",
            "R[write to console]: =\n",
            "R[write to console]: =\n",
            "R[write to console]: =\n",
            "R[write to console]: =\n",
            "R[write to console]: =\n",
            "R[write to console]: =\n",
            "R[write to console]: =\n",
            "R[write to console]: =\n",
            "R[write to console]: =\n",
            "R[write to console]: =\n",
            "R[write to console]: =\n",
            "R[write to console]: =\n",
            "R[write to console]: =\n",
            "R[write to console]: \n",
            "\n",
            "R[write to console]: downloaded 36 KB\n",
            "\n",
            "\n",
            "R[write to console]: trying URL 'https://cran.rstudio.com/src/contrib/ROCR_1.0-11.tar.gz'\n",
            "\n",
            "R[write to console]: Content type 'application/x-gzip'\n",
            "R[write to console]:  length 271680 bytes (265 KB)\n",
            "\n",
            "R[write to console]: =\n",
            "R[write to console]: =\n",
            "R[write to console]: =\n",
            "R[write to console]: =\n",
            "R[write to console]: =\n",
            "R[write to console]: =\n",
            "R[write to console]: =\n",
            "R[write to console]: =\n",
            "R[write to console]: =\n",
            "R[write to console]: =\n",
            "R[write to console]: =\n",
            "R[write to console]: =\n",
            "R[write to console]: =\n",
            "R[write to console]: =\n",
            "R[write to console]: =\n",
            "R[write to console]: =\n",
            "R[write to console]: =\n",
            "R[write to console]: =\n",
            "R[write to console]: =\n",
            "R[write to console]: =\n",
            "R[write to console]: =\n",
            "R[write to console]: =\n",
            "R[write to console]: =\n",
            "R[write to console]: =\n",
            "R[write to console]: =\n",
            "R[write to console]: =\n",
            "R[write to console]: =\n",
            "R[write to console]: =\n",
            "R[write to console]: =\n",
            "R[write to console]: =\n",
            "R[write to console]: =\n",
            "R[write to console]: =\n",
            "R[write to console]: =\n",
            "R[write to console]: =\n",
            "R[write to console]: =\n",
            "R[write to console]: =\n",
            "R[write to console]: =\n",
            "R[write to console]: =\n",
            "R[write to console]: =\n",
            "R[write to console]: =\n",
            "R[write to console]: =\n",
            "R[write to console]: =\n",
            "R[write to console]: =\n",
            "R[write to console]: =\n",
            "R[write to console]: =\n",
            "R[write to console]: =\n",
            "R[write to console]: =\n",
            "R[write to console]: =\n",
            "R[write to console]: =\n",
            "R[write to console]: =\n",
            "R[write to console]: \n",
            "\n",
            "R[write to console]: downloaded 265 KB\n",
            "\n",
            "\n",
            "R[write to console]: trying URL 'https://bioconductor.org/packages/3.12/bioc/src/contrib/BiocVersion_3.12.0.tar.gz'\n",
            "\n",
            "R[write to console]: Content type 'application/x-gzip'\n",
            "R[write to console]:  length 981 bytes\n",
            "\n",
            "R[write to console]: =\n",
            "R[write to console]: =\n",
            "R[write to console]: =\n",
            "R[write to console]: =\n",
            "R[write to console]: =\n",
            "R[write to console]: =\n",
            "R[write to console]: =\n",
            "R[write to console]: =\n",
            "R[write to console]: =\n",
            "R[write to console]: =\n",
            "R[write to console]: =\n",
            "R[write to console]: =\n",
            "R[write to console]: =\n",
            "R[write to console]: =\n",
            "R[write to console]: =\n",
            "R[write to console]: =\n",
            "R[write to console]: =\n",
            "R[write to console]: =\n",
            "R[write to console]: =\n",
            "R[write to console]: =\n",
            "R[write to console]: =\n",
            "R[write to console]: =\n",
            "R[write to console]: =\n",
            "R[write to console]: =\n",
            "R[write to console]: =\n",
            "R[write to console]: =\n",
            "R[write to console]: =\n",
            "R[write to console]: =\n",
            "R[write to console]: =\n",
            "R[write to console]: =\n",
            "R[write to console]: =\n",
            "R[write to console]: =\n",
            "R[write to console]: =\n",
            "R[write to console]: =\n",
            "R[write to console]: =\n",
            "R[write to console]: =\n",
            "R[write to console]: =\n",
            "R[write to console]: =\n",
            "R[write to console]: =\n",
            "R[write to console]: =\n",
            "R[write to console]: =\n",
            "R[write to console]: =\n",
            "R[write to console]: =\n",
            "R[write to console]: =\n",
            "R[write to console]: =\n",
            "R[write to console]: =\n",
            "R[write to console]: =\n",
            "R[write to console]: =\n",
            "R[write to console]: =\n",
            "R[write to console]: =\n",
            "R[write to console]: \n",
            "\n",
            "R[write to console]: downloaded 981 bytes\n",
            "\n",
            "\n",
            "R[write to console]: trying URL 'https://bioconductor.org/packages/3.12/bioc/src/contrib/erccdashboard_1.24.0.tar.gz'\n",
            "\n",
            "R[write to console]: Content type 'application/x-gzip'\n",
            "R[write to console]:  length 1920500 bytes (1.8 MB)\n",
            "\n",
            "R[write to console]: =\n",
            "R[write to console]: =\n",
            "R[write to console]: =\n",
            "R[write to console]: =\n",
            "R[write to console]: =\n",
            "R[write to console]: =\n",
            "R[write to console]: =\n",
            "R[write to console]: =\n",
            "R[write to console]: =\n",
            "R[write to console]: =\n",
            "R[write to console]: =\n",
            "R[write to console]: =\n",
            "R[write to console]: =\n",
            "R[write to console]: =\n",
            "R[write to console]: =\n",
            "R[write to console]: =\n",
            "R[write to console]: =\n",
            "R[write to console]: =\n",
            "R[write to console]: =\n",
            "R[write to console]: =\n",
            "R[write to console]: =\n",
            "R[write to console]: =\n",
            "R[write to console]: =\n",
            "R[write to console]: =\n",
            "R[write to console]: =\n",
            "R[write to console]: =\n",
            "R[write to console]: =\n",
            "R[write to console]: =\n",
            "R[write to console]: =\n",
            "R[write to console]: =\n",
            "R[write to console]: =\n",
            "R[write to console]: =\n",
            "R[write to console]: =\n",
            "R[write to console]: =\n",
            "R[write to console]: =\n",
            "R[write to console]: =\n",
            "R[write to console]: =\n",
            "R[write to console]: =\n",
            "R[write to console]: =\n",
            "R[write to console]: =\n",
            "R[write to console]: =\n",
            "R[write to console]: =\n",
            "R[write to console]: =\n",
            "R[write to console]: =\n",
            "R[write to console]: =\n",
            "R[write to console]: =\n",
            "R[write to console]: =\n",
            "R[write to console]: =\n",
            "R[write to console]: =\n",
            "R[write to console]: =\n",
            "R[write to console]: \n",
            "\n",
            "R[write to console]: downloaded 1.8 MB\n",
            "\n",
            "\n",
            "R[write to console]: \n",
            "\n",
            "R[write to console]: \n",
            "R[write to console]: The downloaded source packages are in\n",
            "\t‘/tmp/RtmpbSBIhb/downloaded_packages’\n",
            "R[write to console]: \n",
            "R[write to console]: \n",
            "\n",
            "R[write to console]: Old packages: 'cachem', 'dbplyr', 'nlme'\n",
            "\n",
            "R[write to console]: Installing package into ‘/usr/local/lib/R/site-library’\n",
            "(as ‘lib’ is unspecified)\n",
            "\n",
            "R[write to console]: trying URL 'https://cran.rstudio.com/src/contrib/pacman_0.5.1.tar.gz'\n",
            "\n",
            "R[write to console]: Content type 'application/x-gzip'\n",
            "R[write to console]:  length 274400 bytes (267 KB)\n",
            "\n",
            "R[write to console]: =\n",
            "R[write to console]: =\n",
            "R[write to console]: =\n",
            "R[write to console]: =\n",
            "R[write to console]: =\n",
            "R[write to console]: =\n",
            "R[write to console]: =\n",
            "R[write to console]: =\n",
            "R[write to console]: =\n",
            "R[write to console]: =\n",
            "R[write to console]: =\n",
            "R[write to console]: =\n",
            "R[write to console]: =\n",
            "R[write to console]: =\n",
            "R[write to console]: =\n",
            "R[write to console]: =\n",
            "R[write to console]: =\n",
            "R[write to console]: =\n",
            "R[write to console]: =\n",
            "R[write to console]: =\n",
            "R[write to console]: =\n",
            "R[write to console]: =\n",
            "R[write to console]: =\n",
            "R[write to console]: =\n",
            "R[write to console]: =\n",
            "R[write to console]: =\n",
            "R[write to console]: =\n",
            "R[write to console]: =\n",
            "R[write to console]: =\n",
            "R[write to console]: =\n",
            "R[write to console]: =\n",
            "R[write to console]: =\n",
            "R[write to console]: =\n",
            "R[write to console]: =\n",
            "R[write to console]: =\n",
            "R[write to console]: =\n",
            "R[write to console]: =\n",
            "R[write to console]: =\n",
            "R[write to console]: =\n",
            "R[write to console]: =\n",
            "R[write to console]: =\n",
            "R[write to console]: =\n",
            "R[write to console]: =\n",
            "R[write to console]: =\n",
            "R[write to console]: =\n",
            "R[write to console]: =\n",
            "R[write to console]: =\n",
            "R[write to console]: =\n",
            "R[write to console]: =\n",
            "R[write to console]: =\n",
            "R[write to console]: \n",
            "\n",
            "R[write to console]: downloaded 267 KB\n",
            "\n",
            "\n",
            "R[write to console]: \n",
            "\n",
            "R[write to console]: \n",
            "R[write to console]: The downloaded source packages are in\n",
            "\t‘/tmp/RtmpbSBIhb/downloaded_packages’\n",
            "R[write to console]: \n",
            "R[write to console]: \n",
            "\n"
          ],
          "name": "stderr"
        }
      ]
    },
    {
      "cell_type": "code",
      "metadata": {
        "id": "6xEFo7lvvr1y",
        "colab": {
          "base_uri": "https://localhost:8080/"
        },
        "outputId": "a44c3369-abfa-40fc-ead9-e662b86cf075"
      },
      "source": [
        "# Load R libraries\n",
        "%%R\n",
        "library(erccdashboard)\n",
        "pacman::p_load(base, datasets, graphics, grDevices, methods, edgeR, grid, gplots, gtools, limma, locfit, MASS, reshape2, ROCR, plyr, scales, stringr, qvalue,\n",
        "               stats, tidyr, tidyverse, utils)"
      ],
      "execution_count": 4,
      "outputs": [
        {
          "output_type": "stream",
          "text": [
            "R[write to console]: Loading required package: ggplot2\n",
            "\n",
            "R[write to console]: Loading required package: gridExtra\n",
            "\n"
          ],
          "name": "stderr"
        }
      ]
    },
    {
      "cell_type": "code",
      "metadata": {
        "colab": {
          "base_uri": "https://localhost:8080/"
        },
        "id": "NVcHskIUPeFY",
        "outputId": "be20ef3f-f957-4757-dd4b-a8dfc83e57b1"
      },
      "source": [
        "%%R\r\n",
        "citation(\"erccdashboard\")"
      ],
      "execution_count": null,
      "outputs": [
        {
          "output_type": "stream",
          "text": [
            "\n",
            "Please cite our paper when you use the erccdashboard package for\n",
            "analysis.\n",
            "\n",
            "  Munro SA et al. Assessing technical performance in differential gene\n",
            "  expression experiments with external spike-in RNA control ratio\n",
            "  mixtures. Nat. Commun. 5:5125 doi: 10.1038/ncomms6125 (2014)\n",
            "\n",
            "A BibTeX entry for LaTeX users is\n",
            "\n",
            "  @Article{,\n",
            "    title = {Assessing technical performance in differential gene expression experiments with external spike-in RNA control ratio mixtures},\n",
            "    author = {Munro SA and Lund SP and Pine PS and Binder H and Clevert D-A and Conesa A and Dopazo J and Fasold M and Hochreiter S and Hong H and Jafari N and Kreil DP and Labaj PP and Li S and Liao Y and Lin SM and Meehan J and Mason CE and Santoyo-Lopez J and Setterquist RA and Shi L and Shi W and Smyth GK and Stralis-Pavese N and Su Z and Tong W and Wang C and Wang J and Xu J and Ye Z and Yang Y and Yu Y and Salit M},\n",
            "    journal = {Nat. Commun.},\n",
            "    volume = {5},\n",
            "    pages = {5125},\n",
            "    year = {2014},\n",
            "  }\n",
            "\n"
          ],
          "name": "stdout"
        }
      ]
    },
    {
      "cell_type": "code",
      "metadata": {
        "colab": {
          "base_uri": "https://localhost:8080/"
        },
        "id": "laNbYDm1Pqch",
        "outputId": "25496f03-ead1-4dbd-ace1-70422a153d67"
      },
      "source": [
        "# Mount Google Drive\r\n",
        "from google.colab import drive\r\n",
        "drive.mount('/content/drive')"
      ],
      "execution_count": 11,
      "outputs": [
        {
          "output_type": "stream",
          "text": [
            "Drive already mounted at /content/drive; to attempt to forcibly remount, call drive.mount(\"/content/drive\", force_remount=True).\n"
          ],
          "name": "stdout"
        }
      ]
    },
    {
      "cell_type": "code",
      "metadata": {
        "colab": {
          "base_uri": "https://localhost:8080/"
        },
        "id": "nEhLPYEePqtO",
        "outputId": "a16dc152-9013-4e64-d305-f0cf15e4ed83"
      },
      "source": [
        "# Directory permission to upload files \r\n",
        "%cd ~"
      ],
      "execution_count": 12,
      "outputs": [
        {
          "output_type": "stream",
          "text": [
            "/root\n"
          ],
          "name": "stdout"
        }
      ]
    },
    {
      "cell_type": "code",
      "metadata": {
        "id": "yY3_96ZWPq49"
      },
      "source": [
        "# Set MyDrive directory\r\n",
        "%%R\r\n",
        "work_dir=\"/content/drive/MyDrive\"\r\n",
        "plots_dir=\"/content/drive/MyDrive\"\r\n",
        "setwd(file.path(work_dir))"
      ],
      "execution_count": 15,
      "outputs": []
    },
    {
      "cell_type": "code",
      "metadata": {
        "id": "Y1w2Yi8GPq8F"
      },
      "source": [
        "# Load data by copying data's path from Google Drive\r\n",
        "%%R\r\n",
        "FS_LVR.countDat <- read.csv(Sys.glob(\"/content/drive/MyDrive/FS_LVR32.countDat.csv\"), header = TRUE, stringsAsFactors = TRUE)\r\n",
        "FS_LVR.totalReads <- read.csv(Sys.glob(\"/content/drive/MyDrive/FS_LVR32.totalReads.csv\"), header = FALSE, stringsAsFactors = TRUE)\r\n",
        "ERCCExFold <- read.csv(Sys.glob(\"/content/drive/MyDrive/ERCCExFold.csv\"), header = TRUE, stringsAsFactors = TRUE)"
      ],
      "execution_count": 16,
      "outputs": []
    },
    {
      "cell_type": "code",
      "metadata": {
        "colab": {
          "base_uri": "https://localhost:8080/"
        },
        "id": "7Up2WXM2Pq_W",
        "outputId": "90f2efb3-19a1-4b23-c795-6a2ad144a47f"
      },
      "source": [
        "# Count data\r\n",
        "%%R\r\n",
        "head(FS_LVR.countDat)"
      ],
      "execution_count": 17,
      "outputs": [
        {
          "output_type": "stream",
          "text": [
            "             Feature LVRMix1_31 LVRMix1_33 LVRMix1_32 LVRMix1_34 LVRMix1_36\n",
            "1 ENSMUSG00000000001         12         18          4          0          3\n",
            "2 ENSMUSG00000000003          0          0          0          0          0\n",
            "3 ENSMUSG00000000028          1          1          0          0          0\n",
            "4 ENSMUSG00000000031         11          1          0          0          0\n",
            "5 ENSMUSG00000000037          9          0          0          0          0\n",
            "6 ENSMUSG00000000049         81        147         31         11         23\n",
            "  LVRMix1_d9 LVRMix1_11 LVRMix1_12 LVRMix1_7 LVRMix1_9 LVRMix1_13 LVRMix1_15\n",
            "1          1          7         20         2         5         13         23\n",
            "2          0          0          0         0         0          0          0\n",
            "3          0          0          0         0         0          4          0\n",
            "4          0          2          0         0         4          2          0\n",
            "5          0          0          0         0         3         11          0\n",
            "6         14         46        186        16        13         38        236\n",
            "  LVRMix1_14 LVRMix1_16 LVRMix1_18 LVRMix1_19 LVRMix1_21 LVRMix1_23 LVRMix1_20\n",
            "1          9         15          6          2          1          1          3\n",
            "2          0          0          0          0          0          0          0\n",
            "3          1          1          0          0          1          0          0\n",
            "4          0          0          0          9          6          6          0\n",
            "5          1          2          2          1          1          3          0\n",
            "6         91        128         23         10         23         31         66\n",
            "  LVRMix1_22 LVRMix1_2 LVRMix1_6 LVRMix1_L1 LVRMix1_L3 LVRMix1_L5 LVRMix1_1\n",
            "1          6         2         5          7          6         10        11\n",
            "2          0         0         0          0          0          0         0\n",
            "3          0         0         0          0          0          0         0\n",
            "4          0         1         0          0          1          0         0\n",
            "5          0         0         0          0          0          0         0\n",
            "6        101        20        80        140        156         94        64\n",
            "  LVRMix1_3 LVRMix1_5 LVRMix1_25 LVRMix1_27 LVRMix1_26 LVRMix1_30 LVRMix2_34\n",
            "1        16         5         12          6          4          2         17\n",
            "2         0         0          0          0          0          0          0\n",
            "3         0         0          0          0          0          0          0\n",
            "4         0         0          0          0          0          0          0\n",
            "5         0         0          0          0          0          0          1\n",
            "6       168        60        144        118         36         70        176\n",
            "  LVRMix2_31 LVRMix2_33 LVRMix2_35 LVRMix2_d10 LVRMix2_7 LVRMix2_9 LVRMix2_11\n",
            "1         10          5          6          39         7        44          4\n",
            "2          0          0          0           0         0         0          0\n",
            "3          0          1          0           0         0         1          0\n",
            "4          0          0          0           0         1         0          1\n",
            "5          0          1          0           1         0         0          0\n",
            "6        125         70        159         290        81       237         54\n",
            "  LVRMix2_8 LVRMix2_10 LVRMix2_16 LVRMix2_18 LVRMix2_15 LVRMix2_17 LVRMix2_22\n",
            "1         7          5         13         17          9         13         16\n",
            "2         0          0          0          0          0          0          0\n",
            "3         0          0          2          0          0          0          1\n",
            "4         0          0         18          0          1          1          4\n",
            "5         0          0          9          0          0          0          2\n",
            "6        39         34        173        275        126        127        185\n",
            "  LVRMix2_24 LVRMix2_19 LVRMix2_21 LVRMix2_23 LVRMix2_1 LVRMix2_3 LVRMix2_5\n",
            "1         11          0          1          6        33         7         2\n",
            "2          0          0          0          0         0         0         0\n",
            "3          0          1          0          0         0         0         1\n",
            "4          0         11          1          1         2         0         0\n",
            "5          2          6          0          2         0         0         0\n",
            "6        202         17         37         74       265        85        72\n",
            "  LVRMix2_L2 LVRMix2_L4 LVRMix2_L6 LVRMix2_2 LVRMix2_4 LVRMix2_6 LVRMix2_28\n",
            "1          8          2          1         2         4         6         43\n",
            "2          0          0          0         0         0         0          0\n",
            "3          0          0          0         0         0         0          4\n",
            "4          0          0          0         0         1         0          9\n",
            "5          0          0          0         0         2         0          4\n",
            "6         86         61         52        37        26        80        499\n",
            "  LVRMix2_25 LVRMix2_27 LVRMix2_29\n",
            "1         12          1          9\n",
            "2          0          0          0\n",
            "3          0          0          0\n",
            "4          1          0          1\n",
            "5          0          0          0\n",
            "6         88         29        138\n"
          ],
          "name": "stdout"
        }
      ]
    },
    {
      "cell_type": "code",
      "metadata": {
        "colab": {
          "base_uri": "https://localhost:8080/"
        },
        "id": "Lj4hUte2PrCl",
        "outputId": "3915feab-b300-469d-c9ae-2c0d83b4bde3"
      },
      "source": [
        "# Total sequenced reads of each column in count data\r\n",
        "%%R\r\n",
        "head(FS_LVR.totalReads)"
      ],
      "execution_count": 18,
      "outputs": [
        {
          "output_type": "stream",
          "text": [
            "        V1\n",
            "1 84828509\n",
            "2 54797359\n",
            "3 48901977\n",
            "4 51046641\n",
            "5 47898001\n",
            "6 50039094\n"
          ],
          "name": "stdout"
        }
      ]
    },
    {
      "cell_type": "code",
      "metadata": {
        "colab": {
          "base_uri": "https://localhost:8080/"
        },
        "id": "4H5ZHT2rPrFy",
        "outputId": "f7a305a5-6fb8-4411-f20e-c1d5eeb9ae6e"
      },
      "source": [
        "# ERCCExFold\r\n",
        "%%R\r\n",
        "head(ERCCExFold)"
      ],
      "execution_count": null,
      "outputs": [
        {
          "output_type": "stream",
          "text": [
            "  ERCC.Expected Subpool Mix1Conc.Attomoles_ul Mix2Conc.Attomoles_ul\n",
            "1    ERCC-00130    4:01             30000.000            7500.00000\n",
            "2    ERCC-00004    4:01              7500.000            1875.00000\n",
            "3    ERCC-00136    4:01              1875.000             468.75000\n",
            "4    ERCC-00108    4:01               937.500             234.37500\n",
            "5    ERCC-00116    4:01               468.750             117.18750\n",
            "6    ERCC-00092    4:01               234.375              58.59375\n"
          ],
          "name": "stdout"
        }
      ]
    },
    {
      "cell_type": "code",
      "metadata": {
        "colab": {
          "base_uri": "https://localhost:8080/"
        },
        "id": "XtHeA0bIPrI_",
        "outputId": "f336b39c-901f-4ab1-c311-6806a85a3f85"
      },
      "source": [
        "# exDat quick analysis\r\n",
        "%%R\r\n",
        "datType = \"count\" # \"count\" for RNA-Seq data\r\n",
        "isNorm = FALSE # flag to indicate if input expression measures are already normalized,\r\n",
        "               # default is FALSE\r\n",
        "exTable = FS_LVR.countDat # expression measure table,                               \r\n",
        "                           # names of genes or transcripts (Feature) in col1\r\n",
        "filenameRoot = \"FS\" # user defined filename prefix for results files\r\n",
        "sample1Name = \"LVRMix1\" # name for sample 1 in experiment, Mix 1\r\n",
        "sample2Name = \"LVRMix2\" # name for sample 2 in experiment, Mix 2\r\n",
        "erccmix = \"RatioPair\" # name of ERCC mixture design, \"RatioPair\" is default\r\n",
        "erccdilution = 1/100 # dilution factor used for Ambion spike-in mixtures\r\n",
        "spikeVol = 3 # volume (uL) of diluted spike-in mixture added to total RNA mass\r\n",
        "totalRNAmass = 1.5 # mass (ug) of total RNA\r\n",
        "choseFDR = 0.05 # user defined false discovery rate (FDR), default is 0.05 \r\n",
        "\r\n",
        "exDat <- initDat(datType=\"count\", isNorm = FALSE,\r\n",
        "                 exTable=FS_LVR.countDat,\r\n",
        "                 filenameRoot=\"FS\", sample1Name=\"LVRMix1\",\r\n",
        "                 sample2Name=\"LVRMix2\", erccmix=\"RatioPair\",\r\n",
        "                 erccdilution=1/100, spikeVol=3,\r\n",
        "                 totalRNAmass=1.5, choseFDR=0.05)\r\n",
        "\r\n",
        "summary(exDat)"
      ],
      "execution_count": 23,
      "outputs": [
        {
          "output_type": "stream",
          "text": [
            "\n",
            "Initializing the exDat list structure...\n",
            "choseFDR = 0.05 \n",
            "repNormFactor is NULL \n",
            "Filename root is: FS.LVRMix1.LVRMix2 \n",
            "\n",
            "Transcripts were removed with a mean count < 1 or more than 2 \n",
            "replicates with 0 counts.\n",
            "Original data contained  55628 transcripts. \n",
            "After filtering  19723 transcripts remain for  analysis.\n",
            "A total of 52 out of 92 \n",
            "ERCC controls were filtered from the data set\n",
            "The excluded ERCCs are:\n",
            "ERCC-00012 ERCC-00013 ERCC-00016 ERCC-00017 ERCC-00019\n",
            "ERCC-00024 ERCC-00028 ERCC-00031 ERCC-00033 ERCC-00039\n",
            "ERCC-00040 ERCC-00041 ERCC-00048 ERCC-00051 ERCC-00054\n",
            "ERCC-00057 ERCC-00058 ERCC-00059 ERCC-00061 ERCC-00067\n",
            "ERCC-00069 ERCC-00073 ERCC-00075 ERCC-00077 ERCC-00081\n",
            "ERCC-00083 ERCC-00085 ERCC-00086 ERCC-00097 ERCC-00098\n",
            "ERCC-00104 ERCC-00109 ERCC-00117 ERCC-00120 ERCC-00123\n",
            "ERCC-00126 ERCC-00134 ERCC-00137 ERCC-00138 ERCC-00142\n",
            "ERCC-00143 ERCC-00144 ERCC-00147 ERCC-00148 ERCC-00150\n",
            "ERCC-00154 ERCC-00156 ERCC-00157 ERCC-00158 ERCC-00163\n",
            "ERCC-00164 ERCC-00168\n",
            "\n",
            "repNormFactor is NULL,\n",
            " Using Default Upper Quartile Normalization Method  - 75th percentile\n",
            "\n",
            "normVec:\n",
            "19 8 2 3 3 3 8 6 2 6 15 9 6 6 6 10 7 6 13 6 3 6 8 7 6 8 9 5 6 5 3 6 9 9 4 13 14 8 13 8 4 3 26 11 8 10 14 11 11 4 6 15 7 8 6 11 9 6 8 7 25 10 4 12              Length Class      Mode     \n",
            "sampleInfo    11     -none-     list     \n",
            "plotInfo       9     -none-     list     \n",
            "erccInfo       4     -none-     list     \n",
            "Transcripts   65     data.frame list     \n",
            "designMat      3     data.frame list     \n",
            "sampleNames    2     -none-     character\n",
            "idCols         6     data.frame list     \n",
            "normERCCDat   65     data.frame list     \n",
            "normFactor    64     -none-     numeric  \n",
            "mnLibeFactor   1     -none-     numeric  \n",
            "spikeFraction  1     -none-     numeric  \n"
          ],
          "name": "stdout"
        }
      ]
    },
    {
      "cell_type": "code",
      "metadata": {
        "colab": {
          "base_uri": "https://localhost:8080/"
        },
        "id": "nwhvP6TDRaTc",
        "outputId": "69a19260-391c-4b7c-c2c1-65e77de1f39b"
      },
      "source": [
        "# Estimate the mRNA fraction differences for the pair of samples using replicate data\r\n",
        "%%R\r\n",
        "exDat <- est_r_m(exDat)"
      ],
      "execution_count": 24,
      "outputs": [
        {
          "output_type": "stream",
          "text": [
            "\n",
            "Check for sample mRNA fraction differences(r_m)...\n",
            "\n",
            "Number of ERCC Controls Used in r_m estimate\n",
            "40 \n",
            "\n",
            "Outlier ERCCs for GLM r_m Estimate:\n",
            "ERCC-00162 ERCC-00062 ERCC-00095 ERCC-00078 ERCC-00071\n",
            "ERCC-00079 ERCC-00060 ERCC-00076 ERCC-00112 ERCC-00022\n",
            "ERCC-00042 ERCC-00116 ERCC-00009 ERCC-00003 ERCC-00004\n",
            "ERCC-00046 ERCC-00002\n",
            "\n",
            "GLM log(r_m) estimate:\n",
            "-0.0565358 \n",
            "\n",
            "GLM log(r_m) estimate weighted s.e.:\n",
            "0.4232672 \n"
          ],
          "name": "stdout"
        }
      ]
    },
    {
      "cell_type": "code",
      "metadata": {
        "id": "bL4hkIKtRacM",
        "colab": {
          "base_uri": "https://localhost:8080/",
          "height": 769
        },
        "outputId": "d8eedc2f-e59b-4d55-b04f-01c7d458efe9"
      },
      "source": [
        "# Dynamic Range of abundance and ERCC signal is a qualitative assessment of expt, 2^16 dynamic range is desirable for RNAseq gene expression expt\r\n",
        "%%R\r\n",
        "exDat <- dynRangePlot(exDat)\r\n",
        "grid.arrange(exDat$Figures$dynRangePlot)"
      ],
      "execution_count": 26,
      "outputs": [
        {
          "output_type": "stream",
          "text": [
            "\n",
            "Number of ERCCs in Mix 1 dyn range:  40 \n",
            "\n",
            "Number of ERCCs in Mix 2 dyn range:  40 \n",
            "These ERCCs were not included in the signal-abundance plot,\n",
            "because not enough non-zero replicate measurements of these\n",
            " controls were obtained for both samples:\n",
            "\n",
            "ERCC-00014 ERCC-00022 ERCC-00034 ERCC-00035 ERCC-00044\n",
            "ERCC-00053 ERCC-00062 ERCC-00071 ERCC-00076 ERCC-00078\n",
            "ERCC-00079 ERCC-00084 ERCC-00092 ERCC-00099 ERCC-00112\n",
            "ERCC-00131 ERCC-00160 ERCC-00162 ERCC-00165 ERCC-00170\n",
            "ERCC-00025 ERCC-00042 ERCC-00095 ERCC-00108 ERCC-00116\n",
            "\n",
            "\n",
            "Saving dynRangePlot to exDat\n"
          ],
          "name": "stdout"
        },
        {
          "output_type": "display_data",
          "data": {
            "image/png": "[encoded data removed]"
          },
          "metadata": {
            "tags": []
          }
        }
      ]
    },
    {
      "cell_type": "code",
      "metadata": {
        "colab": {
          "base_uri": "https://localhost:8080/"
        },
        "id": "PVhtrmMnRakn",
        "outputId": "6ba0589e-6818-439b-da94-2dbf709b1594"
      },
      "source": [
        "# geneExprTest by default for RNASeq unnormalized counts uses QuasiSeq, a negative binomial dispersion trend estimated from edgeR \r\n",
        "%%R\r\n",
        "exDat <- geneExprTest(exDat)"
      ],
      "execution_count": 27,
      "outputs": [
        {
          "output_type": "stream",
          "text": [
            "\n",
            "Starting differential expression tests\n",
            "\n",
            "Show log.offset\n",
            "2.944439 2.079442 0.6931472 1.098612 1.098612 1.098612 2.079442 1.791759 0.6931472 1.791759 2.70805 2.197225 1.791759 1.791759 1.791759 2.302585 1.94591 1.791759 2.564949 1.791759 1.098612 1.791759 2.079442 1.94591 1.791759 2.079442 2.197225 1.609438 1.791759 1.609438 1.098612 1.791759 2.197225 2.197225 1.386294 2.564949 2.639057 2.079442 2.564949 2.079442 1.386294 1.098612 3.258097 2.397895 2.079442 2.302585 2.639057 2.397895 2.397895 1.386294 1.791759 2.70805 1.94591 2.079442 1.791759 2.397895 2.197225 1.791759 2.079442 1.94591 3.218876 2.302585 1.386294 2.484907 \n",
            "[1] 1\n",
            "[1] 2\n",
            "[1] 3\n",
            "[1] 4\n",
            "Disp = 0.60904 , BCV = 0.7804 \n",
            "Disp = 0.60907 , BCV = 0.7804 \n",
            "Finished DE testing\n",
            "Finished examining dispersions\n",
            "\n",
            "Threshold P-value\n",
            "0.0002269898 \n"
          ],
          "name": "stdout"
        }
      ]
    },
    {
      "cell_type": "code",
      "metadata": {
        "colab": {
          "base_uri": "https://localhost:8080/",
          "height": 633
        },
        "id": "dn72x07hRaov",
        "outputId": "538344e7-c8dc-4fc2-ce2e-7f887be21977"
      },
      "source": [
        "# Receiver Operator Characteristic (ROC, true-pos and true-neg rank ordered DE test P-values) and Area Under the Curve (AUC) show diagnostic performance of detecting true differences \r\n",
        "# btwn expts using DE tests; AUC=1 best, AUC=0.5 random guess; FPR=False Pos Rate, TPR=True Pos Rate; higher seq depth result in more ERCC detection and more stringent ROC analysis\r\n",
        "%%R\r\n",
        "exDat <- erccROC(exDat)\r\n",
        "grid.arrange(exDat$Figures$rocPlot)"
      ],
      "execution_count": 28,
      "outputs": [
        {
          "output_type": "stream",
          "text": [
            "\n",
            "Generating ROC curve and AUC statistics...\n",
            "\n",
            "Area Under the Curve (AUC) Results:\n",
            " Ratio   AUC Detected Spiked\n",
            "   4:1 1.000       10     23\n",
            " 1:1.5 0.622       10     23\n",
            "   1:2 0.798       11     23\n"
          ],
          "name": "stdout"
        },
        {
          "output_type": "display_data",
          "data": {
            "image/png": "[encoded data removed]"
          },
          "metadata": {
            "tags": []
          }
        }
      ]
    },
    {
      "cell_type": "code",
      "metadata": {
        "colab": {
          "base_uri": "https://localhost:8080/",
          "height": 650
        },
        "id": "ubALFJ5rRasJ",
        "outputId": "ad36196e-83f8-4a38-dc86-0fe21e24e564"
      },
      "source": [
        "# Estimate Limit of Detection of Ratios (LODR) estimates for each differential fold change; black dash line = p.thresh (threshold p-value); \r\n",
        "# LODR values compared btwn expts to detect sample differences as a function of transcript abundance\r\n",
        "%%R\r\n",
        "exDat <- estLODR(exDat, kind = \"ERCC\", prob = 0.9)\r\n",
        "exDat <- annotLODR(exDat)\r\n",
        "grid.arrange(exDat$Figures$lodrERCCPlot)"
      ],
      "execution_count": 29,
      "outputs": [
        {
          "output_type": "stream",
          "text": [
            "\n",
            "Estimating ERCC LODR\n",
            ".............................................\n",
            " Ratio LODR Estimate 90% CI Lower Bound 90% CI Upper Bound\n",
            "   4:1             2               <1.7                2.1\n",
            " 1:1.5           Inf               <NA>               <NA>\n",
            "   1:2           Inf               <NA>               <NA>\n",
            "\n",
            "LODR estimates are available to code ratio-abundance plot\n"
          ],
          "name": "stdout"
        },
        {
          "output_type": "display_data",
          "data": {
            "image/png": "[encoded data removed]"
          },
          "metadata": {
            "tags": []
          }
        }
      ]
    },
    {
      "cell_type": "code",
      "metadata": {
        "colab": {
          "base_uri": "https://localhost:8080/",
          "height": 531
        },
        "id": "GHcIn2IdRavp",
        "outputId": "bd301bbf-a707-45d0-f787-fb2eb94b5f81"
      },
      "source": [
        "# Generate MA plot \r\n",
        "%%R\r\n",
        "exDat <- maSignal(exDat, alphaPoint = 0.8, r_mAdjust = TRUE, replicate = TRUE)\r\n",
        "grid.arrange(exDat$Figures$maPlot)"
      ],
      "execution_count": 30,
      "outputs": [
        {
          "output_type": "stream",
          "text": [
            "\n",
            "LODR estimates are available to code ratio-abundance plot\n"
          ],
          "name": "stdout"
        },
        {
          "output_type": "display_data",
          "data": {
            "image/png": "[encoded data removed]"
          },
          "metadata": {
            "tags": []
          }
        }
      ]
    },
    {
      "cell_type": "code",
      "metadata": {
        "colab": {
          "base_uri": "https://localhost:8080/"
        },
        "id": "xIBQbVywRa4r",
        "outputId": "7645695a-9af2-43df-a035-3769093079b1"
      },
      "source": [
        "%%R\r\n",
        "saveERCCPlots(exDat, plotsPerPg = \"single\", saveas = \"pdf\", outName = \"Plots\", plotlist = list(exDat$Figures$dynRangePlot, exDat$Figures$rocPlot, exDat$Figures$lodrERCCPlot, exDat$Figures$maPlot))"
      ],
      "execution_count": 31,
      "outputs": [
        {
          "output_type": "stream",
          "text": [
            "Printing plots to multiple pages in one PDF file.\n",
            "png \n",
            "  2 \n"
          ],
          "name": "stdout"
        }
      ]
    },
    {
      "cell_type": "code",
      "metadata": {
        "colab": {
          "base_uri": "https://localhost:8080/",
          "height": 17
        },
        "id": "G54QFbnlRa8g",
        "outputId": "2045f83a-1b4a-4e28-fc00-7b44cf5d8572"
      },
      "source": [
        "# Save plots to local drive and MyDrive\r\n",
        "from google.colab import files \r\n",
        "files.download('Plots.pdf')"
      ],
      "execution_count": 32,
      "outputs": [
        {
          "output_type": "display_data",
          "data": {
            "application/javascript": [
              "\n",
              "    async function download(id, filename, size) {\n",
              "      if (!google.colab.kernel.accessAllowed) {\n",
              "        return;\n",
              "      }\n",
              "      const div = document.createElement('div');\n",
              "      const label = document.createElement('label');\n",
              "      label.textContent = `Downloading \"${filename}\": `;\n",
              "      div.appendChild(label);\n",
              "      const progress = document.createElement('progress');\n",
              "      progress.max = size;\n",
              "      div.appendChild(progress);\n",
              "      document.body.appendChild(div);\n",
              "\n",
              "      const buffers = [];\n",
              "      let downloaded = 0;\n",
              "\n",
              "      const channel = await google.colab.kernel.comms.open(id);\n",
              "      // Send a message to notify the kernel that we're ready.\n",
              "      channel.send({})\n",
              "\n",
              "      for await (const message of channel.messages) {\n",
              "        // Send a message to notify the kernel that we're ready.\n",
              "        channel.send({})\n",
              "        if (message.buffers) {\n",
              "          for (const buffer of message.buffers) {\n",
              "            buffers.push(buffer);\n",
              "            downloaded += buffer.byteLength;\n",
              "            progress.value = downloaded;\n",
              "          }\n",
              "        }\n",
              "      }\n",
              "      const blob = new Blob(buffers, {type: 'application/binary'});\n",
              "      const a = document.createElement('a');\n",
              "      a.href = window.URL.createObjectURL(blob);\n",
              "      a.download = filename;\n",
              "      div.appendChild(a);\n",
              "      a.click();\n",
              "      div.remove();\n",
              "    }\n",
              "  "
            ],
            "text/plain": [
              "<IPython.core.display.Javascript object>"
            ]
          },
          "metadata": {
            "tags": []
          }
        },
        {
          "output_type": "display_data",
          "data": {
            "application/javascript": [
              "download(\"download_ff96d83a-74f9-4304-9129-b4f3ac6b242b\", \"Plots.pdf\", 212015)"
            ],
            "text/plain": [
              "<IPython.core.display.Javascript object>"
            ]
          },
          "metadata": {
            "tags": []
          }
        }
      ]
    },
    {
      "cell_type": "code",
      "metadata": {
        "id": "KWpvhJH9PrPy"
      },
      "source": [
        ""
      ],
      "execution_count": null,
      "outputs": []
    }
  ]
}